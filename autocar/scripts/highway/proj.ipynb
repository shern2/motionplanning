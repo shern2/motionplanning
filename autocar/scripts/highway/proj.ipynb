{
 "cells": [
  {
   "cell_type": "code",
   "execution_count": 587,
   "metadata": {},
   "outputs": [],
   "source": [
    "%matplotlib inline\n",
    "\n",
    "import numpy as np\n",
    "import matplotlib.pyplot as plt\n",
    "from itertools import combinations"
   ]
  },
  {
   "cell_type": "code",
   "execution_count": 424,
   "metadata": {},
   "outputs": [],
   "source": [
    "vMAX, vMIN = 5, -5\n",
    "aMAX, aMIN = 10,-10\n",
    "dt = 0.1\n",
    "SIM_T = 50\n",
    "SIM_ITRS = int(SIM_T/dt)\n",
    "\n",
    "xGOAL = 190\n",
    "\n",
    "VFRONT = 1.98\n",
    "VREAR = 0.405\n",
    "VLEN  = VFRONT+VREAR\n",
    "VHW = 0.6\n",
    "\n",
    "VLEN_1of3 = round(VLEN/3,8)"
   ]
  },
  {
   "cell_type": "code",
   "execution_count": 131,
   "metadata": {},
   "outputs": [],
   "source": [
    "## World-related params\n",
    "num_lanes = 2\n",
    "num_cars_per_lane = [4,4]\n",
    "numCars = 1+sum(num_cars_per_lane) # autoCar + agentCars\n",
    "yFIRST_LANE = 18.5\n",
    "LANE_WIDTH = 3.0"
   ]
  },
  {
   "cell_type": "code",
   "execution_count": 460,
   "metadata": {},
   "outputs": [],
   "source": [
    "## State = (t, x, y, vx, vy)\n",
    "tIdx, xIdx, yIdx, vxIdx, vyIdx = [i for i in range(5)]\n",
    "\n",
    "# first car is autoCar, remaining agentCars\n",
    "INITPOS_CARS =np.array([\n",
    "    [0, 10, 21.5, 2, 0],\n",
    "    [0, 25, 18.5, 2, 0],\n",
    "    [0, 45, 18.5, 2, 0],\n",
    "    [0, 65, 18.5, 2, 0],\n",
    "    [0, 85, 18.5, 2, 0],\n",
    "    [0, 20, 21.5, 3, 0],\n",
    "    [0, 35, 21.5, 3, 0],\n",
    "    [0, 50, 21.5, 3, 0],\n",
    "    [0, 65, 21.5, 3, 0]\n",
    "])\n",
    "\n",
    "# INITPOS = INITPOS_CARS[0]\n",
    "\n",
    "\n",
    "## Drivers' aggressiveness\n",
    "AGGROS = [True for _ in range(numCars)]"
   ]
  },
  {
   "cell_type": "code",
   "execution_count": 147,
   "metadata": {},
   "outputs": [],
   "source": [
    "## Indices for the cars (autoCar, firstCARS, CARS)\n",
    "CARS = [i for i in range(numCars)]\n",
    "\n",
    "autoCAR = 0\n",
    "\n",
    "firstCARS =[]\n",
    "MASK_AGENTS = np.array([False]+[True for _ in range(numCars-1)])\n",
    "yLanes = np.array([i*LANE_WIDTH+yFIRST_LANE for i in range(num_lanes)])\n",
    "for yLane in yLanes:\n",
    "    mask= (INITPOS_CARS[:,yIdx]==yLane)*MASK_AGENTS\n",
    "    firstCARS.append(np.argmax(INITPOS_CARS[:,xIdx]*mask))\n",
    "    \n",
    "\n",
    "laneMarkings = np.append(yLanes,yLanes[-1]+LANE_WIDTH) - LANE_WIDTH/2"
   ]
  },
  {
   "cell_type": "code",
   "execution_count": 406,
   "metadata": {},
   "outputs": [],
   "source": [
    "## Breaking-distance dict (vx -> x)\n",
    "# Usage: DIST_BREAK[ceil(vx)]\n",
    "def getBrakeDist():\n",
    "    v2 = 0\n",
    "    a = aMIN\n",
    "    DIST_BREAK = dict()\n",
    "\n",
    "    for v1 in reversed(range(1,vMAX+1)):\n",
    "        vx = v1\n",
    "        x = 0\n",
    "        duration = (v2-vx)/a\n",
    "        for _ in range(int(duration/dt)):\n",
    "            vx= round(vx+a*dt,8)\n",
    "            x = round(x+vx*dt,8)\n",
    "        DIST_BREAK[int(v1)] = x\n",
    "    return DIST_BREAK\n",
    "\n",
    "DIST_BREAK = getBrakeDist()\n",
    "\n",
    "\n",
    "## Agent car's trigger: Over-taking distance to consider\n",
    "DIST_OVERTAKE = round((1.5+1)*VLEN,8) #1.5 car length's away\n",
    "\n",
    "\n",
    "## Agent car's trigger: car in front is 'far' by this much \n",
    "DIST_FAR = 0.5 + max(DIST_BREAK.values())"
   ]
  },
  {
   "cell_type": "code",
   "execution_count": 725,
   "metadata": {},
   "outputs": [],
   "source": [
    "## Obstacle-Free check\n",
    "OBS_COMBI = [[],[]]\n",
    "for i1, i2 in combinations(range(numCars),2):\n",
    "    OBS_COMBI[0].append(i1)\n",
    "    OBS_COMBI[1].append(i2)\n",
    "\n",
    "def isObsFree(states):\n",
    "    \"\"\"returns the carIds that collided. Consider reverting to previous position for these cars\"\"\"\n",
    "    xs = states[:,xIdx]\n",
    "    ys = states[:,yIdx]\n",
    "    \n",
    "    collided = set()\n",
    "    lst1, lst2 = OBS_COMBI\n",
    "    condY = np.abs(ys[lst2]-ys[lst1]) < VHW\n",
    "    condX = np.abs(xs[lst2]-xs[lst1]) < VLEN\n",
    "\n",
    "    idxs = np.argwhere(condY & condX).reshape(-1)\n",
    "    for idx in idxs:\n",
    "        print(\"collision between ({:d},{:d})\".format(lst1[idx],lst2[idx]))\n",
    "        collided.add(lst1[idx])\n",
    "        collided.add(lst2[idx])\n",
    "        #numCollisions+=1\n",
    "    return list(collided)\n",
    "    #TODO check if still collide after fixing/reverting the state"
   ]
  },
  {
   "cell_type": "code",
   "execution_count": 727,
   "metadata": {},
   "outputs": [
    {
     "data": {
      "text/plain": [
       "array([[ 0. , 10. , 21.5,  2. ,  0. ],\n",
       "       [ 0. , 25. , 18.5,  2. ,  0. ],\n",
       "       [ 0. , 45. , 18.5,  2. ,  0. ],\n",
       "       [ 0. , 65. , 18.5,  2. ,  0. ],\n",
       "       [ 0. , 85. , 18.5,  2. ,  0. ],\n",
       "       [ 0. , 20. , 21.5,  3. ,  0. ],\n",
       "       [ 0. , 35. , 21.5,  3. ,  0. ],\n",
       "       [ 0. , 50. , 21.5,  3. ,  0. ],\n",
       "       [ 0. , 65. , 21.5,  3. ,  0. ]])"
      ]
     },
     "execution_count": 727,
     "metadata": {},
     "output_type": "execute_result"
    }
   ],
   "source": [
    "states"
   ]
  },
  {
   "cell_type": "code",
   "execution_count": 729,
   "metadata": {},
   "outputs": [
    {
     "data": {
      "text/plain": [
       "array([[ 0. , 65. , 21. ,  2. ,  0. ],\n",
       "       [ 0. , 63.5, 21.5,  3. ,  0. ],\n",
       "       [ 0. , 65. , 21.5,  3. ,  0. ]])"
      ]
     },
     "execution_count": 729,
     "metadata": {},
     "output_type": "execute_result"
    }
   ],
   "source": [
    "nextStates[[3,5,8]]"
   ]
  },
  {
   "cell_type": "code",
   "execution_count": 730,
   "metadata": {},
   "outputs": [
    {
     "data": {
      "text/plain": [
       "[]"
      ]
     },
     "execution_count": 730,
     "metadata": {},
     "output_type": "execute_result"
    }
   ],
   "source": [
    "len(isObsFree(states))>0"
   ]
  },
  {
   "cell_type": "code",
   "execution_count": 740,
   "metadata": {},
   "outputs": [
    {
     "name": "stdout",
     "output_type": "stream",
     "text": [
      "collision between (3,5)\n",
      "collision between (3,8)\n",
      "collision between (5,8)\n"
     ]
    }
   ],
   "source": [
    "states = INITPOS_CARS.copy()\n",
    "nextStates = INITPOS_CARS.copy()\n",
    "nextStates[:,tIdx] += dt\n",
    "t = nextStates[0,tIdx]\n",
    "xs = nextStates[:,xIdx]\n",
    "ys = nextStates[:,yIdx]\n",
    "\n",
    "xs[-4] = 63.5\n",
    "ys[3]=21\n",
    "\n",
    "collideds = isObsFree(nextStates)\n",
    "if len(collideds)>0:\n",
    "    nextStates[collideds] = states[collideds]\n",
    "    nextStates[:,tIdx] = t"
   ]
  },
  {
   "cell_type": "code",
   "execution_count": 6,
   "metadata": {},
   "outputs": [],
   "source": [
    "def gen1stCar(state, duration, v1):\n",
    "    \"\"\"fn to generate path for the 1st car in a lane\"\"\"\n",
    "    assert(v1<=vMAX)\n",
    "    states = []\n",
    "    \n",
    "    t, x, y, vx, vy = state\n",
    "    a = round((v1 - vx)/duration,8)\n",
    "    assert(aMIN <= a <= aMAX)\n",
    "    \n",
    "    for _ in range(int(duration/dt)):\n",
    "        t=round(t+dt,8)\n",
    "        vx= round(vx+a*dt,8)\n",
    "        x = round(x+vx*dt,8)\n",
    "        states.append((t,x,y,vx,vy))\n",
    "    \n",
    "    return states    "
   ]
  },
  {
   "cell_type": "code",
   "execution_count": 180,
   "metadata": {},
   "outputs": [],
   "source": [
    "def getLanes(ys, listOrDic='l'):\n",
    "    \"\"\"get the laneIds for all cars\"\"\"\n",
    "    lanes = np.empty(ys.shape,dtype='int')\n",
    "    \n",
    "    laneId = 0\n",
    "    for ln in range(num_lanes):\n",
    "        lanes[(ys >= laneMarkings[ln]) & (ys < laneMarkings[ln+1])] = laneId\n",
    "        laneId+=1\n",
    "    \n",
    "    return dict(zip(range(numCars),lanes)) if listOrDic =='d' else lanes"
   ]
  },
  {
   "cell_type": "code",
   "execution_count": 443,
   "metadata": {},
   "outputs": [],
   "source": [
    "def move1Car(a,state):\n",
    "    \"\"\"execute a single move\"\"\"\n",
    "    t, x, y, vx, vy = state\n",
    "    vx = round(vx + a*dt, 8)\n",
    "    if vx > vMAX:\n",
    "        vx = vMAX\n",
    "    elif vx < 0:\n",
    "        vx = 0\n",
    "    #elif vx < vMIN:\n",
    "    #    vx = vMIN\n",
    "    \n",
    "    x = round(x + vx*dt, 8)\n",
    "\n",
    "    return (round(t+dt,1),x, y, vx, vy)\n",
    "\n",
    "\n",
    "def moveFirstCar(itr, car):\n",
    "    laneId = laneDIC[car]\n",
    "    return PATHS[laneId][itr+1]\n",
    "\n",
    "def moveAutoCar(states, car):\n",
    "    \"\"\"PENDING<<<<<<\"\"\"\n",
    "    # To run plan and execute it\n",
    "    state = states[car,:].copy()\n",
    "    state[tIdx] = round(state[tIdx]+dt,8)\n",
    "    return state\n",
    "\n",
    "def moveAgentCar(states, car):\n",
    "    #ts = states[:,tIdx]\n",
    "    xs = states[:,xIdx]\n",
    "    ys = states[:,yIdx]\n",
    "    vxs= states[:,vxIdx]\n",
    "    vys= states[:,vyIdx]\n",
    "\n",
    "    t, x, y, vx, vy = states[car,:]\n",
    "    state = states[car,:]\n",
    "    newStates = states.copy()\n",
    "    \n",
    "\n",
    "    ## Identify idxs of carFront, carBehind, carOvertake\n",
    "    condSameLane = (lanes == lanes[car])\n",
    "    condAheadCar = (xs > x)\n",
    "\n",
    "    condition = condSameLane & condAheadCar\n",
    "    if np.sum(condition)==False:\n",
    "        carFront = None\n",
    "    else:\n",
    "        carFront = int(np.argwhere(condition)[np.argmin(xs[condition])])\n",
    "\n",
    "    condition = condSameLane & (xs < x)\n",
    "    if np.sum(condition)==False:\n",
    "        carBehind = None\n",
    "    else:\n",
    "        carBehind = int(np.argwhere(condition)[np.argmax(xs[condition])])\n",
    "\n",
    "    condCrossDivider = (np.abs(ys - y) <= (LANE_WIDTH/2+VHW))\n",
    "    condCloseBy = (xs - x) < (DIST_OVERTAKE+DIST_BREAK[ceil(vx)])\n",
    "    condition = ~condSameLane & condCrossDivider & condAheadCar & condCloseBy\n",
    "    if np.sum(condition)==False:\n",
    "        carOvertake = None\n",
    "    else:\n",
    "        carOvertake = int(np.argwhere(condition)[np.argmin(xs[condition])])\n",
    "        if xs[carOvertake]> xs[carFront]: # overtaking the car in-front\n",
    "            carOvertake = None\n",
    "        #NOTE: currently, only considers closest car in opp lane that overtakes this car\n",
    "\n",
    "\n",
    "    ## Conditions: FN = Front Near, OT = Overtake\n",
    "    if carFront == None:\n",
    "        # firstCARS\n",
    "        print('Unexpected Error: Car {:d} is first car in lane {:d}.'.format(car,lanes[car]))\n",
    "        return None\n",
    "    else:\n",
    "        if (xs[carFront] - x - VLEN) < (VLEN_1of3 + DIST_BREAK[ceil(vx)]):\n",
    "            FN = True\n",
    "        else:\n",
    "            FN = False\n",
    "\n",
    "    OT = False if carOvertake==None else True\n",
    "\n",
    "    ## Execute Actions\n",
    "    if not FN and not OT:\n",
    "        return move1Car(0,state)\n",
    "    elif not FN and OT:\n",
    "        if AGGROS[car]:\n",
    "            return move1Car(aMAX,state)\n",
    "        else:\n",
    "            return move1Car(aMIN, state)\n",
    "    else:\n",
    "        return move1Car(aMIN, state)\n",
    "    \n",
    "# #TEST CODE\n",
    "# car = 1\n",
    "# states = INITPOS_CARS.copy()\n",
    "# states[([5,6,7],[yIdx,yIdx,yIdx])] = 20\n",
    "# states[([6,7],[xIdx,xIdx])] = [30,31]\n",
    "# moveAgentCar(states,car)"
   ]
  },
  {
   "cell_type": "code",
   "execution_count": 12,
   "metadata": {},
   "outputs": [],
   "source": [
    "## SCENARIO <<<< CHANGE HERE!\n",
    "#===\n",
    "PATHS = []\n",
    "\n",
    "## Lane 0 - const vel\n",
    "state = INITPOS_CARS[firstCARS[0],:]\n",
    "path = [state]\n",
    "path += gen1stCar(path[-1],SIM_T,path[-1][vxIdx])\n",
    "PATHS.append(path)\n",
    "\n",
    "## Lane 1 - const vel\n",
    "state = INITPOS_CARS[firstCARS[1],:]\n",
    "path = [state]\n",
    "path += gen1stCar(path[-1],SIM_T,path[-1][vxIdx])\n",
    "PATHS.append(path)\n"
   ]
  },
  {
   "cell_type": "code",
   "execution_count": null,
   "metadata": {},
   "outputs": [],
   "source": [
    "## SIMULATION\n",
    "CARS = [i for i in range(numCars)]\n",
    "\n",
    "states = INITPOS_CARS.copy()\n",
    "simulation = [states]\n",
    "\n",
    "for itr in range(SIM_ITRS):\n",
    "    nextStates = []\n",
    "    laneDIC = getLanes(states[:,yIdx],'d') # get lane for each car\n",
    "    lanes = list(laneDIC.values())\n",
    "    \n",
    "    for car in CARS:\n",
    "        if car==autoCAR:\n",
    "            nextStates.append(moveAutoCar(states, car))\n",
    "        elif car in firstCARS:\n",
    "            nextStates.append(moveFirstCar(itr, car))\n",
    "        else:\n",
    "            nextStates.append(moveAgentCar(states, car))\n",
    "    \n",
    "    t = nextStates[0,tIdx]\n",
    "    collideds = isObsFree(nextStates)\n",
    "    if len(collideds)>0:\n",
    "        nextStates[collideds] = states[collideds] # Assume reversion will not collide\n",
    "        nextStates[:,tIdx] = t\n",
    "        \n",
    "    states = np.array(nextStates)\n",
    "    simulation.append(states)"
   ]
  },
  {
   "cell_type": "code",
   "execution_count": 754,
   "metadata": {},
   "outputs": [],
   "source": [
    "simulation = np.array(simulation)\n",
    "\n",
    "world_name = \"dataTest\"\n",
    "filePath = \"./future_positions/{}_sim.npy\".format(world_name)\n",
    "np.save(filePath, simulation[:,:,vxIdx])\n",
    "\n",
    "#TODO modify highway_controller_ss.py to read in the file and read only the relevant portions for the car..."
   ]
  },
  {
   "cell_type": "code",
   "execution_count": 757,
   "metadata": {},
   "outputs": [],
   "source": [
    "tmp = np.load(filePath)"
   ]
  },
  {
   "cell_type": "markdown",
   "metadata": {},
   "source": [
    "### Quick Sanity Check ( t-vs-x )"
   ]
  },
  {
   "cell_type": "code",
   "execution_count": 604,
   "metadata": {},
   "outputs": [
    {
     "data": {
      "text/plain": [
       "<matplotlib.legend.Legend at 0x7f92e25fcf60>"
      ]
     },
     "execution_count": 604,
     "metadata": {},
     "output_type": "execute_result"
    },
    {
     "data": {
      "image/png": "[encoded data removed]",
      "text/plain": [
       "<Figure size 1008x504 with 2 Axes>"
      ]
     },
     "metadata": {
      "needs_background": "light"
     },
     "output_type": "display_data"
    }
   ],
   "source": [
    "import matplotlib.pyplot as plt\n",
    "\n",
    "fig = plt.figure(figsize=[14,7])\n",
    "fig.add_subplot(211)\n",
    "x = tmp[:,0,tIdx]\n",
    "y = tmp[:,np.argwhere(lanes).reshape(-1),xIdx]\n",
    "plt.plot(x,y)\n",
    "plt.ylim((0,200))\n",
    "plt.legend(np.argwhere(lanes).reshape(-1))\n",
    "fig.add_subplot(212)\n",
    "lanes_other = [abs(1-i) for i in lanes]\n",
    "y = tmp[:,np.argwhere(lanes_other).reshape(-1),xIdx]\n",
    "plt.plot(x,y)\n",
    "plt.ylim((0,200))\n",
    "plt.legend(np.argwhere(lanes_other).reshape(-1))"
   ]
  },
  {
   "cell_type": "markdown",
   "metadata": {},
   "source": [
    "### Scenario planning"
   ]
  },
  {
   "cell_type": "code",
   "execution_count": null,
   "metadata": {},
   "outputs": [],
   "source": [
    "## Scenario: constant vel\n",
    "state = tuple([0, 85, 18.5, 2, 0])\n",
    "path = [state]\n",
    "path += gen1stCar(path[-1],50,path[-1][vxIdx])\n",
    "path"
   ]
  },
  {
   "cell_type": "code",
   "execution_count": null,
   "metadata": {},
   "outputs": [],
   "source": [
    "## Scenario: traffic jam (stuck)\n",
    "state = tuple([0, 85, 18.5, 2, 0])\n",
    "path = [state]\n",
    "period = 0.5\n",
    "for i in range(5):    \n",
    "    path += gen1stCar(path[-1], 1,0)\n",
    "    path += gen1stCar(path[-1], 0.5,1)\n",
    "for i in range(15):    \n",
    "    path += gen1stCar(path[-1], 0.5,0)\n",
    "    path += gen1stCar(path[-1], 2,2)\n",
    "path"
   ]
  },
  {
   "cell_type": "code",
   "execution_count": null,
   "metadata": {},
   "outputs": [],
   "source": [
    "## Scenario: traffic jam (clears after some time)\n",
    "state = tuple([0, 85, 18.5, 2, 0])\n",
    "path = [state]\n",
    "period = 0.5\n",
    "for i in range(8):    \n",
    "    path += gen1stCar(path[-1], 1,0)\n",
    "    path += gen1stCar(path[-1], 0.5,1)\n",
    "\n",
    "path += gen1stCar(path[-1], 38,2)\n",
    "path"
   ]
  },
  {
   "cell_type": "code",
   "execution_count": null,
   "metadata": {
    "scrolled": false
   },
   "outputs": [],
   "source": [
    "## Scenario: traffic jam\n",
    "state = tuple([0, 85, 18.5, 2, 0])\n",
    "path = [state]\n",
    "path += gen1stCar(path[-1],1,1)\n",
    "path += gen1stCar(path[-1],2,0)\n",
    "path += gen1stCar(path[-1],2,vMAX)\n",
    "path += gen1stCar(path[-1],2,vMAX)\n",
    "path"
   ]
  }
 ],
 "metadata": {
  "kernelspec": {
   "display_name": "py2",
   "language": "python",
   "name": "py2"
  },
  "language_info": {
   "codemirror_mode": {
    "name": "ipython",
    "version": 3
   },
   "file_extension": ".py",
   "mimetype": "text/x-python",
   "name": "python",
   "nbconvert_exporter": "python",
   "pygments_lexer": "ipython3",
   "version": "3.7.0"
  }
 },
 "nbformat": 4,
 "nbformat_minor": 2
}
