{
 "cells": [
  {
   "cell_type": "code",
   "execution_count": 1,
   "metadata": {},
   "outputs": [
    {
     "name": "stdout",
     "output_type": "stream",
     "text": [
      "pygame 1.9.4\n",
      "Hello from the pygame community. https://www.pygame.org/contribute.html\n"
     ]
    }
   ],
   "source": [
    "import  os  \n",
    "import  sys  \n",
    "import  tty, termios  \n",
    "import roslib; roslib.load_manifest('autocar')  \n",
    "import rospy \n",
    "import pygame \n",
    "from pygame.locals import * \n",
    "from std_msgs.msg import String  \n",
    "from autocar.msg import *\n",
    "from geometry_msgs.msg import Twist\n",
    "from nav_msgs.msg import *\n",
    "from math import *\n",
    "# import tf\n",
    "import numpy as np\n",
    "import json"
   ]
  },
  {
   "cell_type": "code",
   "execution_count": 183,
   "metadata": {},
   "outputs": [],
   "source": [
    "vMAX, vMIN = 5, -5\n",
    "aMAX, aMIN = 10,-10\n",
    "dt = 0.1\n",
    "SIM_T = 50\n",
    "SIM_ITRS = int(SIM_T/dt)\n",
    "\n",
    "xGOAL = 190\n",
    "\n",
    "VFRONT = 1.98\n",
    "VREAR = 0.405\n",
    "VLEN  = VFRONT+VREAR\n",
    "VHW = 0.6\n",
    "\n"
   ]
  },
  {
   "cell_type": "code",
   "execution_count": 83,
   "metadata": {},
   "outputs": [],
   "source": [
    "num_lanes = 2\n",
    "num_cars_per_lane = [4,4]\n",
    "numCars = sum(num_cars_per_lane)\n",
    "yFIRST_LANE = 18.5\n",
    "LANE_WIDTH = 3.0"
   ]
  },
  {
   "cell_type": "code",
   "execution_count": 116,
   "metadata": {},
   "outputs": [],
   "source": [
    "## State = (t, x, y, vx, vy)\n",
    "tIdx, xIdx, yIdx, vxIdx, vyIdx = [i for i in range(5)]\n",
    "\n",
    "# first car is autoCar, remaining agentCars\n",
    "INITPOS_CARS =np.array([\n",
    "    [0, 10, 21.5, 2, 0],\n",
    "    [0, 25, 18.5, 2, 0],\n",
    "    [0, 45, 18.5, 2, 0],\n",
    "    [0, 65, 18.5, 2, 0],\n",
    "    [0, 85, 18.5, 2, 0],\n",
    "    [0, 20, 21.5, 3, 0],\n",
    "    [0, 35, 21.5, 3, 0],\n",
    "    [0, 50, 21.5, 3, 0],\n",
    "    [0, 65, 21.5, 3, 0]\n",
    "])\n",
    "\n",
    "INITPOS = INITPOS_CARS[0]"
   ]
  },
  {
   "cell_type": "code",
   "execution_count": null,
   "metadata": {},
   "outputs": [],
   "source": [
    "def nextState(a,s):\n",
    "    t,y,v = s[iT],s[iY],s[iV]\n",
    "    v = round(v + a*dt, 8)\n",
    "    if v > vMax:\n",
    "        v = vMax\n",
    "    elif v < vMin:\n",
    "        v = vMin\n",
    "    \n",
    "    y = round(y + v*dt, 8)\n",
    "\n",
    "    if y < Y_ST-(L- DIST_FR_FRONT) : # relative to centre of autoCar (not its origin)\n",
    "        y = 0\n",
    "    \n",
    "    t += dt\n",
    "    return (round(t,1),y,v)\n",
    "\n",
    "def move(a,s):\n",
    "    _,y0, _  = s\n",
    "    stateTmp = nextState(a,s)\n",
    "    t1,_, _  = stateTmp\n",
    "    \n",
    "    if isObsFree(stateTmp):\n",
    "        return stateTmp\n",
    "    else:\n",
    "        return (t1,y0,0) # assume vel = 0 when collided and pos remains as previous state"
   ]
  },
  {
   "cell_type": "code",
   "execution_count": null,
   "metadata": {},
   "outputs": [],
   "source": [
    "def gen1stCar(state, duration, v1):\n",
    "    assert(v1<=vMAX)\n",
    "    states = []\n",
    "    \n",
    "    t, x, y, vx, vy = state\n",
    "    a = round((v1 - vx)/duration,8)\n",
    "    assert(aMIN <= a <= aMAX)\n",
    "    \n",
    "    for _ in range(int(duration/dt)):\n",
    "        t=round(t+dt,8)\n",
    "        vx= round(vx+a*dt,8)\n",
    "        x = round(x+vx*dt,8)\n",
    "        states.append((t,x,y,vx,vy))\n",
    "    \n",
    "    return states    "
   ]
  },
  {
   "cell_type": "code",
   "execution_count": 225,
   "metadata": {},
   "outputs": [],
   "source": [
    "def getLanes(ys):\n",
    "    laneDIC=dict()\n",
    "    i=0\n",
    "    laneMAP = dict(zip(yLanes,range(num_lanes))) # Mapping from y-value to laneID\n",
    "#     ys = INITPOS_CARS[:,yIdx]\n",
    "    for car in CARS:\n",
    "        laneDIC[car] = laneMAP[ys[car]]\n",
    "    return laneDIC"
   ]
  },
  {
   "cell_type": "code",
   "execution_count": 184,
   "metadata": {},
   "outputs": [],
   "source": [
    "## SCENARIO <<<< CHANGE HERE!\n",
    "\n",
    "PATHS = []\n",
    "\n",
    "## Lane 0 - const vel\n",
    "state = INITPOS_CARS[firstCARS[0],:]\n",
    "path = [state]\n",
    "path += gen1stCar(path[-1],SIM_T,path[-1][vxIdx])\n",
    "PATHS.append(path)\n",
    "\n",
    "## Lane 1 - const vel\n",
    "state = INITPOS_CARS[firstCARS[1],:]\n",
    "path = [state]\n",
    "path += gen1stCar(path[-1],SIM_T,path[-1][vxIdx])\n",
    "PATHS.append(path)\n"
   ]
  },
  {
   "cell_type": "code",
   "execution_count": 56,
   "metadata": {},
   "outputs": [],
   "source": [
    "def moveFirstCar(itr, car):\n",
    "    laneId = laneDIC[car]\n",
    "    return PATHS[laneId][itr]\n"
   ]
  },
  {
   "cell_type": "code",
   "execution_count": null,
   "metadata": {},
   "outputs": [],
   "source": [
    "## Idea Sketch\n",
    "CARS = [i for i in range(numCars+1)]\n",
    "\n",
    "states = INITPOS_CARS\n",
    "simulation = [states]\n",
    "\n",
    "for itr in range(SIM_ITRS):\n",
    "    \n",
    "    laneDIC = getLanes(ys) # get lane for each car\n",
    "    \n",
    "    for car in CARS:\n",
    "        if car==autoCAR:\n",
    "            nextState.append(moveAutoCar(states, car))\n",
    "        elif car in firstCARS:\n",
    "            nextState.append(moveFirstCar(itr, car))\n",
    "        else:\n",
    "            nextState.append(moveAgentCar(states, car))\n",
    "    states = nextState\n",
    "    simulation.append(states)"
   ]
  },
  {
   "cell_type": "code",
   "execution_count": 201,
   "metadata": {},
   "outputs": [],
   "source": [
    "autoCAR = 0\n",
    "\n",
    "firstCARS =[]\n",
    "MASK_AGENTS = np.array([False]+[True for _ in range(numCars)])\n",
    "yLanes = [i*LANE_WIDTH+yFIRST_LANE for i in range(num_lanes)]\n",
    "for yLane in yLanes:\n",
    "    mask= (INITPOS_CARS[:,yIdx]==yLane)*MASK_AGENTS\n",
    "    firstCARS.append(np.argmax(xs*mask))\n",
    "    "
   ]
  },
  {
   "cell_type": "code",
   "execution_count": 198,
   "metadata": {},
   "outputs": [],
   "source": [
    "car = 1\n",
    "state = INITPOS_CARS[car,:]"
   ]
  },
  {
   "cell_type": "code",
   "execution_count": 199,
   "metadata": {},
   "outputs": [
    {
     "data": {
      "text/plain": [
       "[18.5, 21.5]"
      ]
     },
     "execution_count": 199,
     "metadata": {},
     "output_type": "execute_result"
    }
   ],
   "source": [
    "yLanes"
   ]
  },
  {
   "cell_type": "code",
   "execution_count": 200,
   "metadata": {},
   "outputs": [
    {
     "data": {
      "text/plain": [
       "False"
      ]
     },
     "execution_count": 200,
     "metadata": {},
     "output_type": "execute_result"
    }
   ],
   "source": [
    "yLanes==21.5"
   ]
  },
  {
   "cell_type": "code",
   "execution_count": 203,
   "metadata": {},
   "outputs": [
    {
     "data": {
      "text/plain": [
       "{4: 0, 8: 1}"
      ]
     },
     "execution_count": 203,
     "metadata": {},
     "output_type": "execute_result"
    }
   ],
   "source": [
    "laneDIC"
   ]
  },
  {
   "cell_type": "code",
   "execution_count": null,
   "metadata": {},
   "outputs": [],
   "source": [
    "def moveAgentCar(states, car):\n",
    "    #ts = states[:,tIdx]\n",
    "    xs = states[:,xIdx]\n",
    "    ys = states[:,yIdx]\n",
    "    vxs= states[:,vxIdx]\n",
    "    vys= states[:,vyIdx]\n",
    "    \n",
    "    t, x, y, vx, vy = states[car,:]\n",
    "    lane = laneDIC[car]\n",
    "    ## Define FF, FS, BF, OT conditions "
   ]
  },
  {
   "cell_type": "code",
   "execution_count": null,
   "metadata": {},
   "outputs": [],
   "source": [
    "moveFirstCar(500, firstCARS[1])"
   ]
  },
  {
   "cell_type": "code",
   "execution_count": 155,
   "metadata": {},
   "outputs": [
    {
     "data": {
      "text/plain": [
       "1"
      ]
     },
     "execution_count": 155,
     "metadata": {},
     "output_type": "execute_result"
    }
   ],
   "source": [
    "laneDIC[8]"
   ]
  },
  {
   "cell_type": "code",
   "execution_count": 142,
   "metadata": {
    "scrolled": true
   },
   "outputs": [
    {
     "data": {
      "text/plain": [
       "[4, 8]"
      ]
     },
     "execution_count": 142,
     "metadata": {},
     "output_type": "execute_result"
    }
   ],
   "source": [
    "firstCARS"
   ]
  },
  {
   "cell_type": "code",
   "execution_count": 163,
   "metadata": {},
   "outputs": [],
   "source": [
    "tmp = (iter(range(3)))"
   ]
  },
  {
   "cell_type": "code",
   "execution_count": 169,
   "metadata": {},
   "outputs": [
    {
     "data": {
      "text/plain": [
       "nan"
      ]
     },
     "execution_count": 169,
     "metadata": {},
     "output_type": "execute_result"
    }
   ],
   "source": [
    "next(tmp,np.nan)"
   ]
  },
  {
   "cell_type": "code",
   "execution_count": null,
   "metadata": {},
   "outputs": [],
   "source": [
    "## carInFront\n",
    "xs = np.empty((numCars,))\n",
    "ys = np.empty((numCars,))\n",
    "laneIds = np.empty((numCars,))\n",
    "\n",
    "xs[]\n",
    "\n",
    "## carBehind\n",
    "\n",
    "\n",
    "## nearbyCars"
   ]
  },
  {
   "cell_type": "code",
   "execution_count": 63,
   "metadata": {},
   "outputs": [
    {
     "data": {
      "text/plain": [
       "[(0, 85, 18.5, 2, 0),\n",
       " (0.1, 85.2, 18.5, 2.0, 0),\n",
       " (0.2, 85.4, 18.5, 2.0, 0),\n",
       " (0.3, 85.6, 18.5, 2.0, 0),\n",
       " (0.4, 85.8, 18.5, 2.0, 0),\n",
       " (0.5, 86.0, 18.5, 2.0, 0),\n",
       " (0.6, 86.2, 18.5, 2.0, 0),\n",
       " (0.7, 86.4, 18.5, 2.0, 0),\n",
       " (0.8, 86.6, 18.5, 2.0, 0),\n",
       " (0.9, 86.8, 18.5, 2.0, 0),\n",
       " (1.0, 87.0, 18.5, 2.0, 0),\n",
       " (1.1, 87.2, 18.5, 2.0, 0),\n",
       " (1.2, 87.4, 18.5, 2.0, 0),\n",
       " (1.3, 87.6, 18.5, 2.0, 0),\n",
       " (1.4, 87.8, 18.5, 2.0, 0),\n",
       " (1.5, 88.0, 18.5, 2.0, 0),\n",
       " (1.6, 88.2, 18.5, 2.0, 0),\n",
       " (1.7, 88.4, 18.5, 2.0, 0),\n",
       " (1.8, 88.6, 18.5, 2.0, 0),\n",
       " (1.9, 88.8, 18.5, 2.0, 0),\n",
       " (2.0, 89.0, 18.5, 2.0, 0),\n",
       " (2.1, 89.2, 18.5, 2.0, 0),\n",
       " (2.2, 89.4, 18.5, 2.0, 0),\n",
       " (2.3, 89.6, 18.5, 2.0, 0),\n",
       " (2.4, 89.8, 18.5, 2.0, 0),\n",
       " (2.5, 90.0, 18.5, 2.0, 0),\n",
       " (2.6, 90.2, 18.5, 2.0, 0),\n",
       " (2.7, 90.4, 18.5, 2.0, 0),\n",
       " (2.8, 90.6, 18.5, 2.0, 0),\n",
       " (2.9, 90.8, 18.5, 2.0, 0),\n",
       " (3.0, 91.0, 18.5, 2.0, 0),\n",
       " (3.1, 91.2, 18.5, 2.0, 0),\n",
       " (3.2, 91.4, 18.5, 2.0, 0),\n",
       " (3.3, 91.6, 18.5, 2.0, 0),\n",
       " (3.4, 91.8, 18.5, 2.0, 0),\n",
       " (3.5, 92.0, 18.5, 2.0, 0),\n",
       " (3.6, 92.2, 18.5, 2.0, 0),\n",
       " (3.7, 92.4, 18.5, 2.0, 0),\n",
       " (3.8, 92.6, 18.5, 2.0, 0),\n",
       " (3.9, 92.8, 18.5, 2.0, 0),\n",
       " (4.0, 93.0, 18.5, 2.0, 0),\n",
       " (4.1, 93.2, 18.5, 2.0, 0),\n",
       " (4.2, 93.4, 18.5, 2.0, 0),\n",
       " (4.3, 93.6, 18.5, 2.0, 0),\n",
       " (4.4, 93.8, 18.5, 2.0, 0),\n",
       " (4.5, 94.0, 18.5, 2.0, 0),\n",
       " (4.6, 94.2, 18.5, 2.0, 0),\n",
       " (4.7, 94.4, 18.5, 2.0, 0),\n",
       " (4.8, 94.6, 18.5, 2.0, 0),\n",
       " (4.9, 94.8, 18.5, 2.0, 0),\n",
       " (5.0, 95.0, 18.5, 2.0, 0),\n",
       " (5.1, 95.2, 18.5, 2.0, 0),\n",
       " (5.2, 95.4, 18.5, 2.0, 0),\n",
       " (5.3, 95.6, 18.5, 2.0, 0),\n",
       " (5.4, 95.8, 18.5, 2.0, 0),\n",
       " (5.5, 96.0, 18.5, 2.0, 0),\n",
       " (5.6, 96.2, 18.5, 2.0, 0),\n",
       " (5.7, 96.4, 18.5, 2.0, 0),\n",
       " (5.8, 96.6, 18.5, 2.0, 0),\n",
       " (5.9, 96.8, 18.5, 2.0, 0),\n",
       " (6.0, 97.0, 18.5, 2.0, 0),\n",
       " (6.1, 97.2, 18.5, 2.0, 0),\n",
       " (6.2, 97.4, 18.5, 2.0, 0),\n",
       " (6.3, 97.6, 18.5, 2.0, 0),\n",
       " (6.4, 97.8, 18.5, 2.0, 0),\n",
       " (6.5, 98.0, 18.5, 2.0, 0),\n",
       " (6.6, 98.2, 18.5, 2.0, 0),\n",
       " (6.7, 98.4, 18.5, 2.0, 0),\n",
       " (6.8, 98.6, 18.5, 2.0, 0),\n",
       " (6.9, 98.8, 18.5, 2.0, 0),\n",
       " (7.0, 99.0, 18.5, 2.0, 0),\n",
       " (7.1, 99.2, 18.5, 2.0, 0),\n",
       " (7.2, 99.4, 18.5, 2.0, 0),\n",
       " (7.3, 99.6, 18.5, 2.0, 0),\n",
       " (7.4, 99.8, 18.5, 2.0, 0),\n",
       " (7.5, 100.0, 18.5, 2.0, 0),\n",
       " (7.6, 100.2, 18.5, 2.0, 0),\n",
       " (7.7, 100.4, 18.5, 2.0, 0),\n",
       " (7.8, 100.6, 18.5, 2.0, 0),\n",
       " (7.9, 100.8, 18.5, 2.0, 0),\n",
       " (8.0, 101.0, 18.5, 2.0, 0),\n",
       " (8.1, 101.2, 18.5, 2.0, 0),\n",
       " (8.2, 101.4, 18.5, 2.0, 0),\n",
       " (8.3, 101.6, 18.5, 2.0, 0),\n",
       " (8.4, 101.8, 18.5, 2.0, 0),\n",
       " (8.5, 102.0, 18.5, 2.0, 0),\n",
       " (8.6, 102.2, 18.5, 2.0, 0),\n",
       " (8.7, 102.4, 18.5, 2.0, 0),\n",
       " (8.8, 102.6, 18.5, 2.0, 0),\n",
       " (8.9, 102.8, 18.5, 2.0, 0),\n",
       " (9.0, 103.0, 18.5, 2.0, 0),\n",
       " (9.1, 103.2, 18.5, 2.0, 0),\n",
       " (9.2, 103.4, 18.5, 2.0, 0),\n",
       " (9.3, 103.6, 18.5, 2.0, 0),\n",
       " (9.4, 103.8, 18.5, 2.0, 0),\n",
       " (9.5, 104.0, 18.5, 2.0, 0),\n",
       " (9.6, 104.2, 18.5, 2.0, 0),\n",
       " (9.7, 104.4, 18.5, 2.0, 0),\n",
       " (9.8, 104.6, 18.5, 2.0, 0),\n",
       " (9.9, 104.8, 18.5, 2.0, 0),\n",
       " (10.0, 105.0, 18.5, 2.0, 0),\n",
       " (10.1, 105.2, 18.5, 2.0, 0),\n",
       " (10.2, 105.4, 18.5, 2.0, 0),\n",
       " (10.3, 105.6, 18.5, 2.0, 0),\n",
       " (10.4, 105.8, 18.5, 2.0, 0),\n",
       " (10.5, 106.0, 18.5, 2.0, 0),\n",
       " (10.6, 106.2, 18.5, 2.0, 0),\n",
       " (10.7, 106.4, 18.5, 2.0, 0),\n",
       " (10.8, 106.6, 18.5, 2.0, 0),\n",
       " (10.9, 106.8, 18.5, 2.0, 0),\n",
       " (11.0, 107.0, 18.5, 2.0, 0),\n",
       " (11.1, 107.2, 18.5, 2.0, 0),\n",
       " (11.2, 107.4, 18.5, 2.0, 0),\n",
       " (11.3, 107.6, 18.5, 2.0, 0),\n",
       " (11.4, 107.8, 18.5, 2.0, 0),\n",
       " (11.5, 108.0, 18.5, 2.0, 0),\n",
       " (11.6, 108.2, 18.5, 2.0, 0),\n",
       " (11.7, 108.4, 18.5, 2.0, 0),\n",
       " (11.8, 108.6, 18.5, 2.0, 0),\n",
       " (11.9, 108.8, 18.5, 2.0, 0),\n",
       " (12.0, 109.0, 18.5, 2.0, 0),\n",
       " (12.1, 109.2, 18.5, 2.0, 0),\n",
       " (12.2, 109.4, 18.5, 2.0, 0),\n",
       " (12.3, 109.6, 18.5, 2.0, 0),\n",
       " (12.4, 109.8, 18.5, 2.0, 0),\n",
       " (12.5, 110.0, 18.5, 2.0, 0),\n",
       " (12.6, 110.2, 18.5, 2.0, 0),\n",
       " (12.7, 110.4, 18.5, 2.0, 0),\n",
       " (12.8, 110.6, 18.5, 2.0, 0),\n",
       " (12.9, 110.8, 18.5, 2.0, 0),\n",
       " (13.0, 111.0, 18.5, 2.0, 0),\n",
       " (13.1, 111.2, 18.5, 2.0, 0),\n",
       " (13.2, 111.4, 18.5, 2.0, 0),\n",
       " (13.3, 111.6, 18.5, 2.0, 0),\n",
       " (13.4, 111.8, 18.5, 2.0, 0),\n",
       " (13.5, 112.0, 18.5, 2.0, 0),\n",
       " (13.6, 112.2, 18.5, 2.0, 0),\n",
       " (13.7, 112.4, 18.5, 2.0, 0),\n",
       " (13.8, 112.6, 18.5, 2.0, 0),\n",
       " (13.9, 112.8, 18.5, 2.0, 0),\n",
       " (14.0, 113.0, 18.5, 2.0, 0),\n",
       " (14.1, 113.2, 18.5, 2.0, 0),\n",
       " (14.2, 113.4, 18.5, 2.0, 0),\n",
       " (14.3, 113.6, 18.5, 2.0, 0),\n",
       " (14.4, 113.8, 18.5, 2.0, 0),\n",
       " (14.5, 114.0, 18.5, 2.0, 0),\n",
       " (14.6, 114.2, 18.5, 2.0, 0),\n",
       " (14.7, 114.4, 18.5, 2.0, 0),\n",
       " (14.8, 114.6, 18.5, 2.0, 0),\n",
       " (14.9, 114.8, 18.5, 2.0, 0),\n",
       " (15.0, 115.0, 18.5, 2.0, 0),\n",
       " (15.1, 115.2, 18.5, 2.0, 0),\n",
       " (15.2, 115.4, 18.5, 2.0, 0),\n",
       " (15.3, 115.6, 18.5, 2.0, 0),\n",
       " (15.4, 115.8, 18.5, 2.0, 0),\n",
       " (15.5, 116.0, 18.5, 2.0, 0),\n",
       " (15.6, 116.2, 18.5, 2.0, 0),\n",
       " (15.7, 116.4, 18.5, 2.0, 0),\n",
       " (15.8, 116.6, 18.5, 2.0, 0),\n",
       " (15.9, 116.8, 18.5, 2.0, 0),\n",
       " (16.0, 117.0, 18.5, 2.0, 0),\n",
       " (16.1, 117.2, 18.5, 2.0, 0),\n",
       " (16.2, 117.4, 18.5, 2.0, 0),\n",
       " (16.3, 117.6, 18.5, 2.0, 0),\n",
       " (16.4, 117.8, 18.5, 2.0, 0),\n",
       " (16.5, 118.0, 18.5, 2.0, 0),\n",
       " (16.6, 118.2, 18.5, 2.0, 0),\n",
       " (16.7, 118.4, 18.5, 2.0, 0),\n",
       " (16.8, 118.6, 18.5, 2.0, 0),\n",
       " (16.9, 118.8, 18.5, 2.0, 0),\n",
       " (17.0, 119.0, 18.5, 2.0, 0),\n",
       " (17.1, 119.2, 18.5, 2.0, 0),\n",
       " (17.2, 119.4, 18.5, 2.0, 0),\n",
       " (17.3, 119.6, 18.5, 2.0, 0),\n",
       " (17.4, 119.8, 18.5, 2.0, 0),\n",
       " (17.5, 120.0, 18.5, 2.0, 0),\n",
       " (17.6, 120.2, 18.5, 2.0, 0),\n",
       " (17.7, 120.4, 18.5, 2.0, 0),\n",
       " (17.8, 120.6, 18.5, 2.0, 0),\n",
       " (17.9, 120.8, 18.5, 2.0, 0),\n",
       " (18.0, 121.0, 18.5, 2.0, 0),\n",
       " (18.1, 121.2, 18.5, 2.0, 0),\n",
       " (18.2, 121.4, 18.5, 2.0, 0),\n",
       " (18.3, 121.6, 18.5, 2.0, 0),\n",
       " (18.4, 121.8, 18.5, 2.0, 0),\n",
       " (18.5, 122.0, 18.5, 2.0, 0),\n",
       " (18.6, 122.2, 18.5, 2.0, 0),\n",
       " (18.7, 122.4, 18.5, 2.0, 0),\n",
       " (18.8, 122.6, 18.5, 2.0, 0),\n",
       " (18.9, 122.8, 18.5, 2.0, 0),\n",
       " (19.0, 123.0, 18.5, 2.0, 0),\n",
       " (19.1, 123.2, 18.5, 2.0, 0),\n",
       " (19.2, 123.4, 18.5, 2.0, 0),\n",
       " (19.3, 123.6, 18.5, 2.0, 0),\n",
       " (19.4, 123.8, 18.5, 2.0, 0),\n",
       " (19.5, 124.0, 18.5, 2.0, 0),\n",
       " (19.6, 124.2, 18.5, 2.0, 0),\n",
       " (19.7, 124.4, 18.5, 2.0, 0),\n",
       " (19.8, 124.6, 18.5, 2.0, 0),\n",
       " (19.9, 124.8, 18.5, 2.0, 0),\n",
       " (20.0, 125.0, 18.5, 2.0, 0),\n",
       " (20.1, 125.2, 18.5, 2.0, 0),\n",
       " (20.2, 125.4, 18.5, 2.0, 0),\n",
       " (20.3, 125.6, 18.5, 2.0, 0),\n",
       " (20.4, 125.8, 18.5, 2.0, 0),\n",
       " (20.5, 126.0, 18.5, 2.0, 0),\n",
       " (20.6, 126.2, 18.5, 2.0, 0),\n",
       " (20.7, 126.4, 18.5, 2.0, 0),\n",
       " (20.8, 126.6, 18.5, 2.0, 0),\n",
       " (20.9, 126.8, 18.5, 2.0, 0),\n",
       " (21.0, 127.0, 18.5, 2.0, 0),\n",
       " (21.1, 127.2, 18.5, 2.0, 0),\n",
       " (21.2, 127.4, 18.5, 2.0, 0),\n",
       " (21.3, 127.6, 18.5, 2.0, 0),\n",
       " (21.4, 127.8, 18.5, 2.0, 0),\n",
       " (21.5, 128.0, 18.5, 2.0, 0),\n",
       " (21.6, 128.2, 18.5, 2.0, 0),\n",
       " (21.7, 128.4, 18.5, 2.0, 0),\n",
       " (21.8, 128.6, 18.5, 2.0, 0),\n",
       " (21.9, 128.8, 18.5, 2.0, 0),\n",
       " (22.0, 129.0, 18.5, 2.0, 0),\n",
       " (22.1, 129.2, 18.5, 2.0, 0),\n",
       " (22.2, 129.4, 18.5, 2.0, 0),\n",
       " (22.3, 129.6, 18.5, 2.0, 0),\n",
       " (22.4, 129.8, 18.5, 2.0, 0),\n",
       " (22.5, 130.0, 18.5, 2.0, 0),\n",
       " (22.6, 130.2, 18.5, 2.0, 0),\n",
       " (22.7, 130.4, 18.5, 2.0, 0),\n",
       " (22.8, 130.6, 18.5, 2.0, 0),\n",
       " (22.9, 130.8, 18.5, 2.0, 0),\n",
       " (23.0, 131.0, 18.5, 2.0, 0),\n",
       " (23.1, 131.2, 18.5, 2.0, 0),\n",
       " (23.2, 131.4, 18.5, 2.0, 0),\n",
       " (23.3, 131.6, 18.5, 2.0, 0),\n",
       " (23.4, 131.8, 18.5, 2.0, 0),\n",
       " (23.5, 132.0, 18.5, 2.0, 0),\n",
       " (23.6, 132.2, 18.5, 2.0, 0),\n",
       " (23.7, 132.4, 18.5, 2.0, 0),\n",
       " (23.8, 132.6, 18.5, 2.0, 0),\n",
       " (23.9, 132.8, 18.5, 2.0, 0),\n",
       " (24.0, 133.0, 18.5, 2.0, 0),\n",
       " (24.1, 133.2, 18.5, 2.0, 0),\n",
       " (24.2, 133.4, 18.5, 2.0, 0),\n",
       " (24.3, 133.6, 18.5, 2.0, 0),\n",
       " (24.4, 133.8, 18.5, 2.0, 0),\n",
       " (24.5, 134.0, 18.5, 2.0, 0),\n",
       " (24.6, 134.2, 18.5, 2.0, 0),\n",
       " (24.7, 134.4, 18.5, 2.0, 0),\n",
       " (24.8, 134.6, 18.5, 2.0, 0),\n",
       " (24.9, 134.8, 18.5, 2.0, 0),\n",
       " (25.0, 135.0, 18.5, 2.0, 0),\n",
       " (25.1, 135.2, 18.5, 2.0, 0),\n",
       " (25.2, 135.4, 18.5, 2.0, 0),\n",
       " (25.3, 135.6, 18.5, 2.0, 0),\n",
       " (25.4, 135.8, 18.5, 2.0, 0),\n",
       " (25.5, 136.0, 18.5, 2.0, 0),\n",
       " (25.6, 136.2, 18.5, 2.0, 0),\n",
       " (25.7, 136.4, 18.5, 2.0, 0),\n",
       " (25.8, 136.6, 18.5, 2.0, 0),\n",
       " (25.9, 136.8, 18.5, 2.0, 0),\n",
       " (26.0, 137.0, 18.5, 2.0, 0),\n",
       " (26.1, 137.2, 18.5, 2.0, 0),\n",
       " (26.2, 137.4, 18.5, 2.0, 0),\n",
       " (26.3, 137.6, 18.5, 2.0, 0),\n",
       " (26.4, 137.8, 18.5, 2.0, 0),\n",
       " (26.5, 138.0, 18.5, 2.0, 0),\n",
       " (26.6, 138.2, 18.5, 2.0, 0),\n",
       " (26.7, 138.4, 18.5, 2.0, 0),\n",
       " (26.8, 138.6, 18.5, 2.0, 0),\n",
       " (26.9, 138.8, 18.5, 2.0, 0),\n",
       " (27.0, 139.0, 18.5, 2.0, 0),\n",
       " (27.1, 139.2, 18.5, 2.0, 0),\n",
       " (27.2, 139.4, 18.5, 2.0, 0),\n",
       " (27.3, 139.6, 18.5, 2.0, 0),\n",
       " (27.4, 139.8, 18.5, 2.0, 0),\n",
       " (27.5, 140.0, 18.5, 2.0, 0),\n",
       " (27.6, 140.2, 18.5, 2.0, 0),\n",
       " (27.7, 140.4, 18.5, 2.0, 0),\n",
       " (27.8, 140.6, 18.5, 2.0, 0),\n",
       " (27.9, 140.8, 18.5, 2.0, 0),\n",
       " (28.0, 141.0, 18.5, 2.0, 0),\n",
       " (28.1, 141.2, 18.5, 2.0, 0),\n",
       " (28.2, 141.4, 18.5, 2.0, 0),\n",
       " (28.3, 141.6, 18.5, 2.0, 0),\n",
       " (28.4, 141.8, 18.5, 2.0, 0),\n",
       " (28.5, 142.0, 18.5, 2.0, 0),\n",
       " (28.6, 142.2, 18.5, 2.0, 0),\n",
       " (28.7, 142.4, 18.5, 2.0, 0),\n",
       " (28.8, 142.6, 18.5, 2.0, 0),\n",
       " (28.9, 142.8, 18.5, 2.0, 0),\n",
       " (29.0, 143.0, 18.5, 2.0, 0),\n",
       " (29.1, 143.2, 18.5, 2.0, 0),\n",
       " (29.2, 143.4, 18.5, 2.0, 0),\n",
       " (29.3, 143.6, 18.5, 2.0, 0),\n",
       " (29.4, 143.8, 18.5, 2.0, 0),\n",
       " (29.5, 144.0, 18.5, 2.0, 0),\n",
       " (29.6, 144.2, 18.5, 2.0, 0),\n",
       " (29.7, 144.4, 18.5, 2.0, 0),\n",
       " (29.8, 144.6, 18.5, 2.0, 0),\n",
       " (29.9, 144.8, 18.5, 2.0, 0),\n",
       " (30.0, 145.0, 18.5, 2.0, 0),\n",
       " (30.1, 145.2, 18.5, 2.0, 0),\n",
       " (30.2, 145.4, 18.5, 2.0, 0),\n",
       " (30.3, 145.6, 18.5, 2.0, 0),\n",
       " (30.4, 145.8, 18.5, 2.0, 0),\n",
       " (30.5, 146.0, 18.5, 2.0, 0),\n",
       " (30.6, 146.2, 18.5, 2.0, 0),\n",
       " (30.7, 146.4, 18.5, 2.0, 0),\n",
       " (30.8, 146.6, 18.5, 2.0, 0),\n",
       " (30.9, 146.8, 18.5, 2.0, 0),\n",
       " (31.0, 147.0, 18.5, 2.0, 0),\n",
       " (31.1, 147.2, 18.5, 2.0, 0),\n",
       " (31.2, 147.4, 18.5, 2.0, 0),\n",
       " (31.3, 147.6, 18.5, 2.0, 0),\n",
       " (31.4, 147.8, 18.5, 2.0, 0),\n",
       " (31.5, 148.0, 18.5, 2.0, 0),\n",
       " (31.6, 148.2, 18.5, 2.0, 0),\n",
       " (31.7, 148.4, 18.5, 2.0, 0),\n",
       " (31.8, 148.6, 18.5, 2.0, 0),\n",
       " (31.9, 148.8, 18.5, 2.0, 0),\n",
       " (32.0, 149.0, 18.5, 2.0, 0),\n",
       " (32.1, 149.2, 18.5, 2.0, 0),\n",
       " (32.2, 149.4, 18.5, 2.0, 0),\n",
       " (32.3, 149.6, 18.5, 2.0, 0),\n",
       " (32.4, 149.8, 18.5, 2.0, 0),\n",
       " (32.5, 150.0, 18.5, 2.0, 0),\n",
       " (32.6, 150.2, 18.5, 2.0, 0),\n",
       " (32.7, 150.4, 18.5, 2.0, 0),\n",
       " (32.8, 150.6, 18.5, 2.0, 0),\n",
       " (32.9, 150.8, 18.5, 2.0, 0),\n",
       " (33.0, 151.0, 18.5, 2.0, 0),\n",
       " (33.1, 151.2, 18.5, 2.0, 0),\n",
       " (33.2, 151.4, 18.5, 2.0, 0),\n",
       " (33.3, 151.6, 18.5, 2.0, 0),\n",
       " (33.4, 151.8, 18.5, 2.0, 0),\n",
       " (33.5, 152.0, 18.5, 2.0, 0),\n",
       " (33.6, 152.2, 18.5, 2.0, 0),\n",
       " (33.7, 152.4, 18.5, 2.0, 0),\n",
       " (33.8, 152.6, 18.5, 2.0, 0),\n",
       " (33.9, 152.8, 18.5, 2.0, 0),\n",
       " (34.0, 153.0, 18.5, 2.0, 0),\n",
       " (34.1, 153.2, 18.5, 2.0, 0),\n",
       " (34.2, 153.4, 18.5, 2.0, 0),\n",
       " (34.3, 153.6, 18.5, 2.0, 0),\n",
       " (34.4, 153.8, 18.5, 2.0, 0),\n",
       " (34.5, 154.0, 18.5, 2.0, 0),\n",
       " (34.6, 154.2, 18.5, 2.0, 0),\n",
       " (34.7, 154.4, 18.5, 2.0, 0),\n",
       " (34.8, 154.6, 18.5, 2.0, 0),\n",
       " (34.9, 154.8, 18.5, 2.0, 0),\n",
       " (35.0, 155.0, 18.5, 2.0, 0),\n",
       " (35.1, 155.2, 18.5, 2.0, 0),\n",
       " (35.2, 155.4, 18.5, 2.0, 0),\n",
       " (35.3, 155.6, 18.5, 2.0, 0),\n",
       " (35.4, 155.8, 18.5, 2.0, 0),\n",
       " (35.5, 156.0, 18.5, 2.0, 0),\n",
       " (35.6, 156.2, 18.5, 2.0, 0),\n",
       " (35.7, 156.4, 18.5, 2.0, 0),\n",
       " (35.8, 156.6, 18.5, 2.0, 0),\n",
       " (35.9, 156.8, 18.5, 2.0, 0),\n",
       " (36.0, 157.0, 18.5, 2.0, 0),\n",
       " (36.1, 157.2, 18.5, 2.0, 0),\n",
       " (36.2, 157.4, 18.5, 2.0, 0),\n",
       " (36.3, 157.6, 18.5, 2.0, 0),\n",
       " (36.4, 157.8, 18.5, 2.0, 0),\n",
       " (36.5, 158.0, 18.5, 2.0, 0),\n",
       " (36.6, 158.2, 18.5, 2.0, 0),\n",
       " (36.7, 158.4, 18.5, 2.0, 0),\n",
       " (36.8, 158.6, 18.5, 2.0, 0),\n",
       " (36.9, 158.8, 18.5, 2.0, 0),\n",
       " (37.0, 159.0, 18.5, 2.0, 0),\n",
       " (37.1, 159.2, 18.5, 2.0, 0),\n",
       " (37.2, 159.4, 18.5, 2.0, 0),\n",
       " (37.3, 159.6, 18.5, 2.0, 0),\n",
       " (37.4, 159.8, 18.5, 2.0, 0),\n",
       " (37.5, 160.0, 18.5, 2.0, 0),\n",
       " (37.6, 160.2, 18.5, 2.0, 0),\n",
       " (37.7, 160.4, 18.5, 2.0, 0),\n",
       " (37.8, 160.6, 18.5, 2.0, 0),\n",
       " (37.9, 160.8, 18.5, 2.0, 0),\n",
       " (38.0, 161.0, 18.5, 2.0, 0),\n",
       " (38.1, 161.2, 18.5, 2.0, 0),\n",
       " (38.2, 161.4, 18.5, 2.0, 0),\n",
       " (38.3, 161.6, 18.5, 2.0, 0),\n",
       " (38.4, 161.8, 18.5, 2.0, 0),\n",
       " (38.5, 162.0, 18.5, 2.0, 0),\n",
       " (38.6, 162.2, 18.5, 2.0, 0),\n",
       " (38.7, 162.4, 18.5, 2.0, 0),\n",
       " (38.8, 162.6, 18.5, 2.0, 0),\n",
       " (38.9, 162.8, 18.5, 2.0, 0),\n",
       " (39.0, 163.0, 18.5, 2.0, 0),\n",
       " (39.1, 163.2, 18.5, 2.0, 0),\n",
       " (39.2, 163.4, 18.5, 2.0, 0),\n",
       " (39.3, 163.6, 18.5, 2.0, 0),\n",
       " (39.4, 163.8, 18.5, 2.0, 0),\n",
       " (39.5, 164.0, 18.5, 2.0, 0),\n",
       " (39.6, 164.2, 18.5, 2.0, 0),\n",
       " (39.7, 164.4, 18.5, 2.0, 0),\n",
       " (39.8, 164.6, 18.5, 2.0, 0),\n",
       " (39.9, 164.8, 18.5, 2.0, 0),\n",
       " (40.0, 165.0, 18.5, 2.0, 0),\n",
       " (40.1, 165.2, 18.5, 2.0, 0),\n",
       " (40.2, 165.4, 18.5, 2.0, 0),\n",
       " (40.3, 165.6, 18.5, 2.0, 0),\n",
       " (40.4, 165.8, 18.5, 2.0, 0),\n",
       " (40.5, 166.0, 18.5, 2.0, 0),\n",
       " (40.6, 166.2, 18.5, 2.0, 0),\n",
       " (40.7, 166.4, 18.5, 2.0, 0),\n",
       " (40.8, 166.6, 18.5, 2.0, 0),\n",
       " (40.9, 166.8, 18.5, 2.0, 0),\n",
       " (41.0, 167.0, 18.5, 2.0, 0),\n",
       " (41.1, 167.2, 18.5, 2.0, 0),\n",
       " (41.2, 167.4, 18.5, 2.0, 0),\n",
       " (41.3, 167.6, 18.5, 2.0, 0),\n",
       " (41.4, 167.8, 18.5, 2.0, 0),\n",
       " (41.5, 168.0, 18.5, 2.0, 0),\n",
       " (41.6, 168.2, 18.5, 2.0, 0),\n",
       " (41.7, 168.4, 18.5, 2.0, 0),\n",
       " (41.8, 168.6, 18.5, 2.0, 0),\n",
       " (41.9, 168.8, 18.5, 2.0, 0),\n",
       " (42.0, 169.0, 18.5, 2.0, 0),\n",
       " (42.1, 169.2, 18.5, 2.0, 0),\n",
       " (42.2, 169.4, 18.5, 2.0, 0),\n",
       " (42.3, 169.6, 18.5, 2.0, 0),\n",
       " (42.4, 169.8, 18.5, 2.0, 0),\n",
       " (42.5, 170.0, 18.5, 2.0, 0),\n",
       " (42.6, 170.2, 18.5, 2.0, 0),\n",
       " (42.7, 170.4, 18.5, 2.0, 0),\n",
       " (42.8, 170.6, 18.5, 2.0, 0),\n",
       " (42.9, 170.8, 18.5, 2.0, 0),\n",
       " (43.0, 171.0, 18.5, 2.0, 0),\n",
       " (43.1, 171.2, 18.5, 2.0, 0),\n",
       " (43.2, 171.4, 18.5, 2.0, 0),\n",
       " (43.3, 171.6, 18.5, 2.0, 0),\n",
       " (43.4, 171.8, 18.5, 2.0, 0),\n",
       " (43.5, 172.0, 18.5, 2.0, 0),\n",
       " (43.6, 172.2, 18.5, 2.0, 0),\n",
       " (43.7, 172.4, 18.5, 2.0, 0),\n",
       " (43.8, 172.6, 18.5, 2.0, 0),\n",
       " (43.9, 172.8, 18.5, 2.0, 0),\n",
       " (44.0, 173.0, 18.5, 2.0, 0),\n",
       " (44.1, 173.2, 18.5, 2.0, 0),\n",
       " (44.2, 173.4, 18.5, 2.0, 0),\n",
       " (44.3, 173.6, 18.5, 2.0, 0),\n",
       " (44.4, 173.8, 18.5, 2.0, 0),\n",
       " (44.5, 174.0, 18.5, 2.0, 0),\n",
       " (44.6, 174.2, 18.5, 2.0, 0),\n",
       " (44.7, 174.4, 18.5, 2.0, 0),\n",
       " (44.8, 174.6, 18.5, 2.0, 0),\n",
       " (44.9, 174.8, 18.5, 2.0, 0),\n",
       " (45.0, 175.0, 18.5, 2.0, 0),\n",
       " (45.1, 175.2, 18.5, 2.0, 0),\n",
       " (45.2, 175.4, 18.5, 2.0, 0),\n",
       " (45.3, 175.6, 18.5, 2.0, 0),\n",
       " (45.4, 175.8, 18.5, 2.0, 0),\n",
       " (45.5, 176.0, 18.5, 2.0, 0),\n",
       " (45.6, 176.2, 18.5, 2.0, 0),\n",
       " (45.7, 176.4, 18.5, 2.0, 0),\n",
       " (45.8, 176.6, 18.5, 2.0, 0),\n",
       " (45.9, 176.8, 18.5, 2.0, 0),\n",
       " (46.0, 177.0, 18.5, 2.0, 0),\n",
       " (46.1, 177.2, 18.5, 2.0, 0),\n",
       " (46.2, 177.4, 18.5, 2.0, 0),\n",
       " (46.3, 177.6, 18.5, 2.0, 0),\n",
       " (46.4, 177.8, 18.5, 2.0, 0),\n",
       " (46.5, 178.0, 18.5, 2.0, 0),\n",
       " (46.6, 178.2, 18.5, 2.0, 0),\n",
       " (46.7, 178.4, 18.5, 2.0, 0),\n",
       " (46.8, 178.6, 18.5, 2.0, 0),\n",
       " (46.9, 178.8, 18.5, 2.0, 0),\n",
       " (47.0, 179.0, 18.5, 2.0, 0),\n",
       " (47.1, 179.2, 18.5, 2.0, 0),\n",
       " (47.2, 179.4, 18.5, 2.0, 0),\n",
       " (47.3, 179.6, 18.5, 2.0, 0),\n",
       " (47.4, 179.8, 18.5, 2.0, 0),\n",
       " (47.5, 180.0, 18.5, 2.0, 0),\n",
       " (47.6, 180.2, 18.5, 2.0, 0),\n",
       " (47.7, 180.4, 18.5, 2.0, 0),\n",
       " (47.8, 180.6, 18.5, 2.0, 0),\n",
       " (47.9, 180.8, 18.5, 2.0, 0),\n",
       " (48.0, 181.0, 18.5, 2.0, 0),\n",
       " (48.1, 181.2, 18.5, 2.0, 0),\n",
       " (48.2, 181.4, 18.5, 2.0, 0),\n",
       " (48.3, 181.6, 18.5, 2.0, 0),\n",
       " (48.4, 181.8, 18.5, 2.0, 0),\n",
       " (48.5, 182.0, 18.5, 2.0, 0),\n",
       " (48.6, 182.2, 18.5, 2.0, 0),\n",
       " (48.7, 182.4, 18.5, 2.0, 0),\n",
       " (48.8, 182.6, 18.5, 2.0, 0),\n",
       " (48.9, 182.8, 18.5, 2.0, 0),\n",
       " (49.0, 183.0, 18.5, 2.0, 0),\n",
       " (49.1, 183.2, 18.5, 2.0, 0),\n",
       " (49.2, 183.4, 18.5, 2.0, 0),\n",
       " (49.3, 183.6, 18.5, 2.0, 0),\n",
       " (49.4, 183.8, 18.5, 2.0, 0),\n",
       " (49.5, 184.0, 18.5, 2.0, 0),\n",
       " (49.6, 184.2, 18.5, 2.0, 0),\n",
       " (49.7, 184.4, 18.5, 2.0, 0),\n",
       " (49.8, 184.6, 18.5, 2.0, 0),\n",
       " (49.9, 184.8, 18.5, 2.0, 0),\n",
       " (50.0, 185.0, 18.5, 2.0, 0)]"
      ]
     },
     "execution_count": 63,
     "metadata": {},
     "output_type": "execute_result"
    }
   ],
   "source": [
    "## Scenario: constant vel\n",
    "state = tuple([0, 85, 18.5, 2, 0])\n",
    "path = [state]\n",
    "path += gen1stCar(path[-1],50,path[-1][vxIdx])\n",
    "path"
   ]
  },
  {
   "cell_type": "code",
   "execution_count": null,
   "metadata": {},
   "outputs": [],
   "source": [
    "## Scenario: traffic jam (stuck)\n",
    "state = tuple([0, 85, 18.5, 2, 0])\n",
    "path = [state]\n",
    "period = 0.5\n",
    "for i in range(5):    \n",
    "    path += gen1stCar(path[-1], 1,0)\n",
    "    path += gen1stCar(path[-1], 0.5,1)\n",
    "for i in range(15):    \n",
    "    path += gen1stCar(path[-1], 0.5,0)\n",
    "    path += gen1stCar(path[-1], 2,2)\n",
    "path"
   ]
  },
  {
   "cell_type": "code",
   "execution_count": null,
   "metadata": {},
   "outputs": [],
   "source": [
    "## Scenario: traffic jam (clears after some time)\n",
    "state = tuple([0, 85, 18.5, 2, 0])\n",
    "path = [state]\n",
    "period = 0.5\n",
    "for i in range(8):    \n",
    "    path += gen1stCar(path[-1], 1,0)\n",
    "    path += gen1stCar(path[-1], 0.5,1)\n",
    "\n",
    "path += gen1stCar(path[-1], 38,2)\n",
    "path"
   ]
  },
  {
   "cell_type": "code",
   "execution_count": null,
   "metadata": {
    "scrolled": false
   },
   "outputs": [],
   "source": [
    "## Scenario: traffic jam\n",
    "state = tuple([0, 85, 18.5, 2, 0])\n",
    "path = [state]\n",
    "path += gen1stCar(path[-1],1,1)\n",
    "path += gen1stCar(path[-1],2,0)\n",
    "path += gen1stCar(path[-1],2,vMAX)\n",
    "path += gen1stCar(path[-1],2,vMAX)\n",
    "path"
   ]
  },
  {
   "cell_type": "code",
   "execution_count": null,
   "metadata": {},
   "outputs": [],
   "source": []
  },
  {
   "cell_type": "code",
   "execution_count": 1,
   "metadata": {},
   "outputs": [
    {
     "ename": "SyntaxError",
     "evalue": "Missing parentheses in call to 'print'. Did you mean print('path to config file is missing!')? (<ipython-input-1-a1a7deb423eb>, line 27)",
     "output_type": "error",
     "traceback": [
      "\u001b[0;36m  File \u001b[0;32m\"<ipython-input-1-a1a7deb423eb>\"\u001b[0;36m, line \u001b[0;32m27\u001b[0m\n\u001b[0;31m    print 'path to config file is missing!'\u001b[0m\n\u001b[0m                                          ^\u001b[0m\n\u001b[0;31mSyntaxError\u001b[0m\u001b[0;31m:\u001b[0m Missing parentheses in call to 'print'. Did you mean print('path to config file is missing!')?\n"
     ]
    }
   ],
   "source": [
    "class SpeedController:\n",
    "    def __init__(self):\n",
    "        self.init()\n",
    "        self.start_game = False\n",
    "\n",
    "    def init(self):\n",
    "        self.path2config = rospy.get_param('~path2config', None)\n",
    "        self.hz = rospy.get_param('~hz', 10)\n",
    "        # self.path2config = 'Q1_world_1.json'\n",
    "        if self.path2config == None:\n",
    "            print 'path to config file is missing!'\n",
    "            sys.exit(-1)\n",
    "\n",
    "        self.rate = rospy.Rate(self.hz) \n",
    "\n",
    "        self.loadConfig()\n",
    "        self.initPubs()\n",
    "\n",
    "    def gameStarts(self, msg):\n",
    "        if msg.state == 1 or msg.state == 2:\n",
    "            self.start_game = True\n",
    "\n",
    "    def initPubs(self):\n",
    "        self.robot_pubs = {}\n",
    "        count = 1\n",
    "        for i in range(self.num_lanes):\n",
    "            num_car_lane = self.num_cars_per_lane[i]\n",
    "            for j in range(num_car_lane):\n",
    "                self.robot_pubs[count] = {}\n",
    "                self.robot_pubs[count]['laneid'] = i\n",
    "                self.robot_pubs[count]['pub'] = rospy.Publisher('robot_' + str(count) + '/cmd_vel', Twist, queue_size=1)\n",
    "                count += 1\n",
    "\n",
    "    def loadConfig(self):\n",
    "        with open(self.path2config, 'r') as f:\n",
    "            self.d = json.load(f)\n",
    "\n",
    "        #<<<<<<<<<<<<<<<<<<<<<<<<<<<<<<<<<<<<<<< MANUAL INPUT<<<<<<<<<<<<,\n",
    "        self.num_lanes = 2 \n",
    "        self.num_cars_per_lane = [4, 4]\n",
    "        # self.mean_speed_per_lane = self.d['mean_speed_per_lane']\n",
    "        # self.stdrr_speed_per_lane = self.d['stdrr_speed_per_lane']\n",
    "        assert(len(d.keys()) == sum(self.num_cars_per_lane))\n",
    "        \n",
    "        for i in self.d.keys():\n",
    "\n",
    "    def update_vel(self, i):\n",
    "        mean_vel = self.mean_speed_per_lane[i]\n",
    "        stdrr_vel = self.stdrr_speed_per_lane[i]\n",
    "        return np.random.normal(mean_vel, stdrr_vel)\n",
    "\n",
    "    def run(self):\n",
    "        while not rospy.is_shutdown():\n",
    "            # publish the speed for each robot\n",
    "            if self.start_game:\n",
    "                for i in self.robot_pubs:\n",
    "                    vel = self.update_vel(self.robot_pubs[i]['laneid'])\n",
    "                    yaw = 0\n",
    "                    self.send_control(self.robot_pubs[i]['pub'], vel, yaw)\n",
    "            self.rate.sleep()\n",
    "            \n",
    "    def send_control(self, robot_pub, vel, yaw):\n",
    "        msg = Twist()\n",
    "        msg.linear.x = vel\n",
    "        msg.angular.z = 0\n",
    "        robot_pub.publish(msg)\n",
    "\n",
    "if __name__=='__main__':\n",
    "    rospy.init_node('agent_controller')\n",
    "\n",
    "    controller = SpeedController()\n",
    "    rospy.Subscriber('/robot_0/highway_game_start', RecordState, controller.gameStarts, queue_size=1)\n",
    "\n",
    "    controller.run()"
   ]
  },
  {
   "cell_type": "code",
   "execution_count": null,
   "metadata": {},
   "outputs": [],
   "source": []
  },
  {
   "cell_type": "code",
   "execution_count": 1,
   "metadata": {},
   "outputs": [],
   "source": [
    "%matplotlib inline"
   ]
  },
  {
   "cell_type": "code",
   "execution_count": 6,
   "metadata": {},
   "outputs": [],
   "source": [
    "import numpy as np\n",
    "import json\n",
    "from matplotlib.patches import Rectangle\n",
    "import matplotlib.pyplot as plt\n",
    "import numpy as np\n",
    "from heapq import *\n",
    "from math import *\n",
    "# import rospy"
   ]
  },
  {
   "cell_type": "code",
   "execution_count": 10,
   "metadata": {},
   "outputs": [
    {
     "data": {
      "text/plain": [
       "3.141592653589793"
      ]
     },
     "execution_count": 10,
     "metadata": {},
     "output_type": "execute_result"
    }
   ],
   "source": [
    "velY = self.vel * cos(radians(theta))\n",
    "velX = self.vel * sin(radians(theta))"
   ]
  },
  {
   "cell_type": "code",
   "execution_count": 33,
   "metadata": {},
   "outputs": [
    {
     "name": "stdout",
     "output_type": "stream",
     "text": [
      "obstacle buffer (tBuff,yBuff)=(0.2, 0.1)\n"
     ]
    }
   ],
   "source": [
    "# state indices (t,y,v)\n",
    "iT, iY, iV  = 0,1,2\n",
    "\n",
    "vMax, vMin = 5.0, -5.0\n",
    "aMax, aMin = 10.0, -10.0\n",
    "ACTIONS = np.linspace(aMin,aMax, num=3)[::-1]\n",
    "dt = 0.1\n",
    "\n",
    "time = np.arange(0,60,0.1)\n",
    "\n",
    "TIMEOUT = 60\n",
    "\n",
    "L, W = 2.385, 1.2\n",
    "DIST_FR_FRONT = 1.98\n",
    "\n",
    "tBuff, yBuff = 0.2, 0.1\n",
    "print(\"obstacle buffer (tBuff,yBuff)={}\".format((tBuff,yBuff)))"
   ]
  },
  {
   "cell_type": "code",
   "execution_count": 4,
   "metadata": {},
   "outputs": [],
   "source": [
    "IS_POSE,TASK1, TASK2 = 'pose', 'Task 1', 'Task 2'\n",
    "\n",
    "def getData(file,poseOrAction):\n",
    "    if poseOrAction == IS_POSE:\n",
    "        inDir = \"./future_positions\"\n",
    "        filePath = \"{:s}/{}_poses.json\".format(inDir,file)\n",
    "    elif poseOrAction == IS_TASK1:\n",
    "        inDir = \"./output_controls/1\"\n",
    "        filePath = \"{:s}/{}_controls.json\".format(inDir,file)\n",
    "    elif poseOrAction == IS_TASK2:\n",
    "        inDir = \"./output_controls/2\"\n",
    "        filePath = \"{:s}/{}_controls.json\".format(inDir,file)\n",
    "\n",
    "    with open(filePath, 'r') as inFile:\n",
    "        data = json.load(inFile)\n",
    "\n",
    "    for obs in data.keys():\n",
    "        data[obs]=np.array(data[obs])\n",
    "    \n",
    "    return data\n",
    "\n",
    "def writeOut(file, task, data):\n",
    "    qnNum = 1 if task == TASK1 else 2\n",
    "        \n",
    "    inDir = \"./output_controls/{:d}\".format(qnNum)\n",
    "    filePath = \"{:s}/{}_controls.json\".format(inDir,file)\n",
    "    \n",
    "    with open(filePath, 'w') as outfile:\n",
    "        json.dump(data, outfile)"
   ]
  },
  {
   "cell_type": "code",
   "execution_count": 6,
   "metadata": {},
   "outputs": [
    {
     "name": "stdout",
     "output_type": "stream",
     "text": [
      "(t0,y0,v0)=(0, 5, 0)\n"
     ]
    }
   ],
   "source": [
    "X_ST, Y_ST, ORI_ST = 100, 5, 90\n",
    "\n",
    "yGoal = 27.0\n",
    "t0 = 0\n",
    "y0 = Y_ST\n",
    "v0 = 0\n",
    "START = (t0,y0,v0)\n",
    "\n",
    "print(\"(t0,y0,v0)={}\".format(START))"
   ]
  },
  {
   "cell_type": "code",
   "execution_count": 7,
   "metadata": {},
   "outputs": [],
   "source": [
    "def tToi(t):\n",
    "    return int(round(t/dt))"
   ]
  },
  {
   "cell_type": "code",
   "execution_count": 8,
   "metadata": {},
   "outputs": [],
   "source": [
    "def getObstacles(data):\n",
    "    obstacles = {} # space-time obstacles\n",
    "\n",
    "    for obs in data.keys():\n",
    "        ori = data[obs][0,2]\n",
    "        yTop = round(data[obs][0,1] + L + yBuff, 8)\n",
    "        yBot = round(data[obs][0,1] - L - yBuff, 8)\n",
    "        if ori == 0:\n",
    "            condition = np.logical_and(data[obs][:,0]>=(X_ST -(DIST_FR_FRONT+W)), data[obs][:,0]<=(X_ST +(L-DIST_FR_FRONT+W)) )\n",
    "        elif ori == 180:\n",
    "            condition = np.logical_and(data[obs][:,0]<=(X_ST +(DIST_FR_FRONT+W)), data[obs][:,0]>=(X_ST -(L-DIST_FR_FRONT+W)) )\n",
    "\n",
    "#         print(\"{:s} (yTop,yBot)=({:5.2f},{:5.2f})\".format(obs,yTop,yBot))\n",
    "#         print(data[obs][:,3][condition]) # 1st and last time t\n",
    "#         print([min(data[obs][:,3][condition])-i for i in range(int(tBuff/dt)) ])\n",
    "#         print(max(data[obs][:,3][condition]))\n",
    "#         break\n",
    "        \n",
    "        time = data[obs][:,3][condition]\n",
    "        if len(time)==0:\n",
    "            continue\n",
    "        time = np.round(np.arange(min(time)-tBuff,max(time)+tBuff +dt,dt), 8)\n",
    "        \n",
    "        for t in time:\n",
    "            if t not in obstacles.keys():\n",
    "                obstacles[t] = set( [(yBot,yTop)] )\n",
    "            else:\n",
    "                obstacles[t] = obstacles[t].union(set( [(yBot,yTop)] ))\n",
    "            \n",
    "    \n",
    "    return obstacles"
   ]
  },
  {
   "cell_type": "code",
   "execution_count": 173,
   "metadata": {},
   "outputs": [],
   "source": [
    "def estimObstacles(currObserv):\n",
    "    obstacles = {}\n",
    "    \n",
    "    t = currObserv[0,-1,-1]\n",
    "    t0 = t\n",
    "    numObs = currObserv.shape[0]\n",
    "\n",
    "#     TIME = np.arange(t,TIMEOUT-dt,dt)\n",
    "    TIME = np.arange(0,TIMEOUT,dt)\n",
    "\n",
    "    x2 = currObserv[:,-1,0]\n",
    "    x1 = currObserv[:,-2,0]\n",
    "    v = (x2-x1)/dt\n",
    "\n",
    "    yTop = np.round(currObserv[:,-1,1] + L + yBuff, 8)\n",
    "    yBot = np.round(currObserv[:,-1,1] - L - yBuff, 8)\n",
    "\n",
    "    ori = currObserv[:,-1,2]\n",
    "\n",
    "    # Estimate x position\n",
    "    xEst = np.empty((numObs,tToi(TIMEOUT)),dtype='float')\n",
    "\n",
    "    # di.shape = (1,num_i)\n",
    "    di = np.array([i-tToi(t) for i in range(tToi(TIMEOUT))]).reshape((1,-1))\n",
    "\n",
    "    # dx.shape = (numObs,num_i)\n",
    "    dx = (v*dt).reshape((numObs,1)) @ di\n",
    "\n",
    "    # xEst.shape = (numObs,num_i)\n",
    "    xEst = x2.reshape((numObs,1)) + dx\n",
    "\n",
    "    \n",
    "    for i in range(numObs):\n",
    "        if ori[i] == 0:\n",
    "            condition = np.logical_and(xEst[i] >=(X_ST -(DIST_FR_FRONT+W)), xEst[i] <=(X_ST +(L-DIST_FR_FRONT+W)) )\n",
    "        elif ori[i] == 180:\n",
    "            condition = np.logical_and(xEst[i] <=(X_ST +(DIST_FR_FRONT+W)), xEst[i] >=(X_ST -(L-DIST_FR_FRONT+W)) )\n",
    "\n",
    "        time = TIME[condition]\n",
    "        if len(time)==0:\n",
    "            continue\n",
    "        time = np.round(np.arange(min(time)-tBuff,max(time)+tBuff +dt,dt), 8)\n",
    "\n",
    "        \n",
    "        for t in time:\n",
    "            if t not in obstacles.keys():\n",
    "                obstacles[t] = set( [(yBot[i],yTop[i])] )\n",
    "            else:\n",
    "                obstacles[t] = obstacles[t].union(set( [(yBot[i],yTop[i])] ))\n",
    "\n",
    "#     print(\"Estimated Obstacles t={}\".format(t0))\n",
    "    return [obstacles,v]"
   ]
  },
  {
   "cell_type": "code",
   "execution_count": 179,
   "metadata": {},
   "outputs": [],
   "source": [
    "def plotSpaceT(path,file, task,data):\n",
    "    fig, ax = plt.subplots(figsize=(10,8))\n",
    "    ax.set_xlim(0,30)\n",
    "    ax.set_ylim(5,29)\n",
    "    ax.set_xlabel('t')\n",
    "    ax.set_ylabel('y')\n",
    "    \n",
    "    totalTime = path[:,iT][-1]\n",
    "    ax.set_title('{} - {} (total time {:.1f}s)'.format(file, task, totalTime))\n",
    "    \n",
    "    obstacles = getObstacles(data)\n",
    "    for t,obs in obstacles.items():\n",
    "        for ymin,ymax in obs:\n",
    "            ax.vlines(t, ymin, ymax, color='b')\n",
    "    #         print(ymin,ymax)\n",
    "    \n",
    "    t, y = path[:,iT], path[:,iY]\n",
    "    plt.plot(t,y,'-o',ms=0.5,c='r')\n",
    "    \n",
    "    inDir = \"./output_controls\"\n",
    "    qnNum = 1 if task == TASK1 else 2\n",
    "    filePath = \"{:s}/{}/{}.png\".format(inDir,qnNum,file)\n",
    "    plt.savefig(filePath, bbox_inches='tight')\n",
    "    \n",
    "    plt.show()\n",
    "    \n",
    "    "
   ]
  },
  {
   "cell_type": "code",
   "execution_count": 180,
   "metadata": {},
   "outputs": [],
   "source": [
    "def isObsFree(state):\n",
    "#     print(state)\n",
    "    t,y = state[iT], state[iY]\n",
    "    obs = obstacles.get(t,-1)\n",
    "    if obs == -1:\n",
    "        return True\n",
    "    else:\n",
    "        for ob in obs:\n",
    "            if ob[0] <= y <= ob[1]:\n",
    "                return False\n",
    "        return True\n",
    "    \n",
    "def nextState(a,s):\n",
    "    t,y,v = s[iT],s[iY],s[iV]\n",
    "    v = round(v + a*dt, 8)\n",
    "    if v > vMax:\n",
    "        v = vMax\n",
    "    elif v < vMin:\n",
    "        v = vMin\n",
    "    \n",
    "    y = round(y + v*dt, 8)\n",
    "\n",
    "    if y < Y_ST-(L- DIST_FR_FRONT) : # relative to centre of autoCar (not its origin)\n",
    "        y = 0\n",
    "    \n",
    "    t += dt\n",
    "    return (round(t,1),y,v)\n",
    "\n",
    "def move(a,s):\n",
    "    _,y0, _  = s\n",
    "    stateTmp = nextState(a,s)\n",
    "    t1,_, _  = stateTmp\n",
    "    \n",
    "    if isObsFree(stateTmp):\n",
    "        return stateTmp\n",
    "    else:\n",
    "        return (t1,y0,0) # assume vel = 0 when collided and pos remains as previous state"
   ]
  },
  {
   "cell_type": "code",
   "execution_count": null,
   "metadata": {},
   "outputs": [],
   "source": [
    "# current = START\n",
    "# a=0\n",
    "# # for a in ACTIONS:\n",
    "# while (current[iY]<yGoal):\n",
    "#     neighbor = nextState(a, current)\n",
    "#     current = neighbor\n",
    "#     print(neighbor)\n",
    "    \n",
    "#     if current[iT]>=600: break"
   ]
  },
  {
   "cell_type": "code",
   "execution_count": 181,
   "metadata": {},
   "outputs": [],
   "source": [
    "# Modified A* Pathfinding code from Christian Careaga (christian.careaga7@gmail.com)\n",
    "\n",
    "def heuristic(a,b):\n",
    "    spaceT1 = np.array([a[iT],a[iY]])\n",
    "    spaceT2 = np.array([b[iT],b[iY]])\n",
    "    return np.linalg.norm(spaceT2-spaceT1)\n",
    "\n",
    "\n",
    "def aStar(start, y_goal):\n",
    "#     import pdb;pdb.set_trace() #########\n",
    "    \n",
    "    numIters = 0\n",
    "    \n",
    "    tentative_goal = (round(START[iT]+(y_goal-START[iY])/vMax,1), y_goal, vMax)\n",
    "    \n",
    "    \n",
    "    close_set = set()\n",
    "    came_from = {}\n",
    "    actionsTaken = {}\n",
    "    gscore = {start:0}\n",
    "    fscore = {start:heuristic(start,tentative_goal)}\n",
    "    oheap = []\n",
    "\n",
    "    heappush(oheap, (fscore[start], start))\n",
    "    \n",
    "    while oheap:\n",
    "        \n",
    "        numIters+=1\n",
    "        if numIters % 5000 == 0:\n",
    "            print(\"current iteration: {}\".format(numIters))\n",
    "        \n",
    "        current = heappop(oheap)[1]\n",
    "        \n",
    "#         print(current)\n",
    "        if current[iT]>TIMEOUT:\n",
    "            return False\n",
    "\n",
    "        if current[iY] >= y_goal:\n",
    "            path = []\n",
    "            actions_path = []\n",
    "            while current in came_from:\n",
    "                path.append(current)\n",
    "                future = current\n",
    "                current = came_from[current]\n",
    "                actions_path.append(actionsTaken[(current,future)])\n",
    "            return [path, actions_path, actionsTaken]\n",
    "\n",
    "        close_set.add(current)\n",
    "        \n",
    "        \n",
    "        for a in ACTIONS:\n",
    "            neighbor = nextState(a, current)\n",
    "\n",
    "            tentative_g_score = gscore[current] + heuristic(current, neighbor)\n",
    "\n",
    "            if not isObsFree(neighbor):\n",
    "                continue\n",
    "                \n",
    "            if neighbor in close_set and tentative_g_score >= gscore.get(neighbor, 0):\n",
    "                continue\n",
    "               \n",
    "            if  tentative_g_score < gscore.get(neighbor, 0) or neighbor not in [i[1]for i in oheap]:\n",
    "                came_from[neighbor] = current\n",
    "                actionsTaken[(current,neighbor)] = a\n",
    "                gscore[neighbor] = tentative_g_score\n",
    "                tentative_goal = (neighbor[iT]+round((y_goal-neighbor[iY])/vMax,1), y_goal, vMax)\n",
    "                fscore[neighbor] = tentative_g_score + heuristic(neighbor, tentative_goal)\n",
    "                heappush(oheap, (fscore[neighbor], neighbor))\n",
    "       \n",
    "    return False"
   ]
  },
  {
   "cell_type": "code",
   "execution_count": null,
   "metadata": {
    "scrolled": false
   },
   "outputs": [],
   "source": [
    "# file = 'data4'\n",
    "# task = TASK1\n",
    "# data = getData(file,IS_POSE)\n",
    "# obstacles = getObstacles(data)\n",
    "# out = aStar(START,yGoal)\n",
    "\n",
    "# path = np.array( [[pth[iT],pth[iY]] for pth in out[0][::-1]] )\n",
    "# plotSpaceT(path,file,task, data)\n",
    "\n",
    "# t = [i[0] for i in out[0][::-1]]\n",
    "# ctrls = out[1][::-1]\n",
    "# controls = {'robot_0': [[i,j] for i,j in zip(ctrls,t)]}\n",
    "# writeOut(file,task,controls)"
   ]
  },
  {
   "cell_type": "code",
   "execution_count": 197,
   "metadata": {},
   "outputs": [
    {
     "name": "stdout",
     "output_type": "stream",
     "text": [
      "current iteration: 5000\n"
     ]
    },
    {
     "data": {
      "image/png": "[encoded data removed]",
      "text/plain": [
       "<Figure size 720x576 with 1 Axes>"
      ]
     },
     "metadata": {
      "needs_background": "light"
     },
     "output_type": "display_data"
    },
    {
     "name": "stdout",
     "output_type": "stream",
     "text": [
      "current iteration: 5000\n",
      "current iteration: 10000\n"
     ]
    },
    {
     "data": {
      "image/png": "[encoded data removed]",
      "text/plain": [
       "<Figure size 720x576 with 1 Axes>"
      ]
     },
     "metadata": {
      "needs_background": "light"
     },
     "output_type": "display_data"
    },
    {
     "data": {
      "image/png": "[encoded data removed]",
      "text/plain": [
       "<Figure size 720x576 with 1 Axes>"
      ]
     },
     "metadata": {
      "needs_background": "light"
     },
     "output_type": "display_data"
    },
    {
     "name": "stdout",
     "output_type": "stream",
     "text": [
      "current iteration: 5000\n"
     ]
    },
    {
     "data": {
      "image/png": "[encoded data removed]",
      "text/plain": [
       "<Figure size 720x576 with 1 Axes>"
      ]
     },
     "metadata": {
      "needs_background": "light"
     },
     "output_type": "display_data"
    },
    {
     "name": "stdout",
     "output_type": "stream",
     "text": [
      "current iteration: 5000\n",
      "current iteration: 10000\n"
     ]
    },
    {
     "data": {
      "image/png": "[encoded data removed]",
      "text/plain": [
       "<Figure size 720x576 with 1 Axes>"
      ]
     },
     "metadata": {
      "needs_background": "light"
     },
     "output_type": "display_data"
    },
    {
     "name": "stdout",
     "output_type": "stream",
     "text": [
      "current iteration: 5000\n",
      "current iteration: 10000\n",
      "current iteration: 15000\n",
      "current iteration: 20000\n",
      "current iteration: 25000\n"
     ]
    },
    {
     "data": {
      "image/png": "[encoded data removed]",
      "text/plain": [
       "<Figure size 720x576 with 1 Axes>"
      ]
     },
     "metadata": {
      "needs_background": "light"
     },
     "output_type": "display_data"
    },
    {
     "name": "stdout",
     "output_type": "stream",
     "text": [
      "current iteration: 5000\n",
      "current iteration: 10000\n",
      "current iteration: 15000\n",
      "current iteration: 20000\n",
      "current iteration: 25000\n",
      "current iteration: 30000\n",
      "current iteration: 35000\n"
     ]
    },
    {
     "data": {
      "image/png": "[encoded data removed]",
      "text/plain": [
       "<Figure size 720x576 with 1 Axes>"
      ]
     },
     "metadata": {
      "needs_background": "light"
     },
     "output_type": "display_data"
    },
    {
     "name": "stdout",
     "output_type": "stream",
     "text": [
      "current iteration: 5000\n",
      "current iteration: 10000\n"
     ]
    },
    {
     "data": {
      "image/png": "[encoded data removed]",
      "text/plain": [
       "<Figure size 720x576 with 1 Axes>"
      ]
     },
     "metadata": {
      "needs_background": "light"
     },
     "output_type": "display_data"
    },
    {
     "name": "stdout",
     "output_type": "stream",
     "text": [
      "current iteration: 5000\n",
      "current iteration: 10000\n",
      "current iteration: 15000\n",
      "current iteration: 20000\n",
      "current iteration: 25000\n"
     ]
    },
    {
     "data": {
      "image/png": "[encoded data removed]",
      "text/plain": [
       "<Figure size 720x576 with 1 Axes>"
      ]
     },
     "metadata": {
      "needs_background": "light"
     },
     "output_type": "display_data"
    },
    {
     "name": "stdout",
     "output_type": "stream",
     "text": [
      "current iteration: 5000\n",
      "current iteration: 10000\n",
      "current iteration: 15000\n",
      "current iteration: 20000\n",
      "current iteration: 25000\n",
      "current iteration: 30000\n",
      "current iteration: 35000\n",
      "current iteration: 40000\n",
      "current iteration: 45000\n",
      "current iteration: 50000\n",
      "current iteration: 55000\n",
      "current iteration: 60000\n",
      "current iteration: 65000\n",
      "current iteration: 70000\n",
      "current iteration: 75000\n"
     ]
    },
    {
     "data": {
      "image/png": "[encoded data removed]",
      "text/plain": [
       "<Figure size 720x576 with 1 Axes>"
      ]
     },
     "metadata": {
      "needs_background": "light"
     },
     "output_type": "display_data"
    }
   ],
   "source": [
    "## TASK1\n",
    "\n",
    "tBuff, yBuff = 0.2, 0.1\n",
    "\n",
    "task = TASK1\n",
    "# FILES = [\"data{}\".format(i) for i in range(1,4+1)]\n",
    "FILES = [\"test{}\".format(i) for i in range(1,10+1)]\n",
    "\n",
    "for file in FILES:\n",
    "    data = getData(file,IS_POSE)\n",
    "    obstacles = getObstacles(data)\n",
    "    out = aStar(START,yGoal)\n",
    "\n",
    "    path = np.array( [[pth[iT],pth[iY]] for pth in out[0][::-1]] )\n",
    "    plotSpaceT(path,file,task, data)\n",
    "\n",
    "    t = [i[0] for i in out[0][::-1]]\n",
    "    ctrls = out[1][::-1]\n",
    "    controls = {'robot_0': [[i,j] for i,j in zip(ctrls,t)]}\n",
    "    writeOut(file,task,controls)"
   ]
  },
  {
   "cell_type": "code",
   "execution_count": 207,
   "metadata": {
    "scrolled": true
   },
   "outputs": [
    {
     "name": "stdout",
     "output_type": "stream",
     "text": [
      "planning (t,y,v) = (0.1, 5, 0))...\n",
      "current iteration: 5000\n"
     ]
    },
    {
     "data": {
      "image/png": "[encoded data removed]",
      "text/plain": [
       "<Figure size 720x576 with 1 Axes>"
      ]
     },
     "metadata": {
      "needs_background": "light"
     },
     "output_type": "display_data"
    },
    {
     "name": "stdout",
     "output_type": "stream",
     "text": [
      "planning (t,y,v) = (0.1, 5, 0))...\n",
      "current iteration: 5000\n",
      "current iteration: 10000\n"
     ]
    },
    {
     "data": {
      "image/png": "[encoded data removed]",
      "text/plain": [
       "<Figure size 720x576 with 1 Axes>"
      ]
     },
     "metadata": {
      "needs_background": "light"
     },
     "output_type": "display_data"
    },
    {
     "name": "stdout",
     "output_type": "stream",
     "text": [
      "planning (t,y,v) = (0.1, 5, 0))...\n"
     ]
    },
    {
     "data": {
      "image/png": "[encoded data removed]",
      "text/plain": [
       "<Figure size 720x576 with 1 Axes>"
      ]
     },
     "metadata": {
      "needs_background": "light"
     },
     "output_type": "display_data"
    },
    {
     "name": "stdout",
     "output_type": "stream",
     "text": [
      "planning (t,y,v) = (0.1, 5, 0))...\n",
      "current iteration: 5000\n",
      "current iteration: 10000\n",
      "current iteration: 15000\n",
      "current iteration: 20000\n",
      "current iteration: 25000\n",
      "current iteration: 30000\n"
     ]
    },
    {
     "data": {
      "image/png": "[encoded data removed]",
      "text/plain": [
       "<Figure size 720x576 with 1 Axes>"
      ]
     },
     "metadata": {
      "needs_background": "light"
     },
     "output_type": "display_data"
    },
    {
     "name": "stdout",
     "output_type": "stream",
     "text": [
      "planning (t,y,v) = (0.1, 5, 0))...\n",
      "current iteration: 5000\n",
      "current iteration: 10000\n",
      "current iteration: 15000\n",
      "current iteration: 20000\n",
      "current iteration: 25000\n",
      "current iteration: 30000\n",
      "current iteration: 35000\n",
      "current iteration: 40000\n",
      "current iteration: 45000\n",
      "current iteration: 50000\n",
      "current iteration: 55000\n",
      "current iteration: 60000\n",
      "current iteration: 65000\n",
      "current iteration: 70000\n",
      "current iteration: 75000\n",
      "current iteration: 80000\n",
      "current iteration: 85000\n",
      "current iteration: 90000\n",
      "current iteration: 95000\n",
      "current iteration: 100000\n",
      "current iteration: 105000\n",
      "current iteration: 110000\n",
      "current iteration: 115000\n",
      "current iteration: 120000\n",
      "current iteration: 125000\n",
      "current iteration: 130000\n",
      "current iteration: 135000\n",
      "current iteration: 140000\n"
     ]
    },
    {
     "data": {
      "image/png": "[encoded data removed]",
      "text/plain": [
       "<Figure size 720x576 with 1 Axes>"
      ]
     },
     "metadata": {
      "needs_background": "light"
     },
     "output_type": "display_data"
    },
    {
     "name": "stdout",
     "output_type": "stream",
     "text": [
      "planning (t,y,v) = (0.1, 5, 0))...\n",
      "current iteration: 5000\n",
      "current iteration: 10000\n",
      "current iteration: 15000\n",
      "current iteration: 20000\n",
      "current iteration: 25000\n",
      "current iteration: 30000\n",
      "current iteration: 35000\n",
      "current iteration: 40000\n",
      "current iteration: 45000\n",
      "current iteration: 50000\n",
      "current iteration: 55000\n",
      "current iteration: 60000\n",
      "current iteration: 65000\n",
      "current iteration: 70000\n",
      "current iteration: 75000\n",
      "current iteration: 80000\n",
      "current iteration: 85000\n",
      "current iteration: 90000\n",
      "current iteration: 95000\n",
      "current iteration: 100000\n",
      "current iteration: 105000\n",
      "current iteration: 110000\n",
      "current iteration: 115000\n",
      "current iteration: 120000\n"
     ]
    },
    {
     "data": {
      "image/png": "[encoded data removed]",
      "text/plain": [
       "<Figure size 720x576 with 1 Axes>"
      ]
     },
     "metadata": {
      "needs_background": "light"
     },
     "output_type": "display_data"
    },
    {
     "name": "stdout",
     "output_type": "stream",
     "text": [
      "planning (t,y,v) = (0.1, 5, 0))...\n",
      "current iteration: 5000\n",
      "current iteration: 10000\n",
      "current iteration: 15000\n",
      "current iteration: 20000\n",
      "current iteration: 25000\n",
      "current iteration: 30000\n",
      "current iteration: 35000\n",
      "current iteration: 40000\n",
      "current iteration: 45000\n",
      "current iteration: 50000\n",
      "current iteration: 55000\n",
      "current iteration: 60000\n",
      "current iteration: 65000\n",
      "current iteration: 70000\n",
      "current iteration: 75000\n",
      "current iteration: 80000\n",
      "current iteration: 85000\n",
      "current iteration: 90000\n",
      "current iteration: 95000\n",
      "current iteration: 100000\n",
      "current iteration: 105000\n",
      "current iteration: 110000\n",
      "current iteration: 115000\n",
      "current iteration: 120000\n",
      "current iteration: 125000\n",
      "current iteration: 130000\n",
      "current iteration: 135000\n",
      "current iteration: 140000\n",
      "current iteration: 145000\n"
     ]
    },
    {
     "data": {
      "image/png": "[encoded data removed]",
      "text/plain": [
       "<Figure size 720x576 with 1 Axes>"
      ]
     },
     "metadata": {
      "needs_background": "light"
     },
     "output_type": "display_data"
    },
    {
     "name": "stdout",
     "output_type": "stream",
     "text": [
      "planning (t,y,v) = (0.1, 5, 0))...\n",
      "current iteration: 5000\n",
      "current iteration: 10000\n",
      "current iteration: 15000\n",
      "current iteration: 20000\n",
      "current iteration: 25000\n",
      "current iteration: 30000\n",
      "current iteration: 35000\n",
      "current iteration: 40000\n",
      "current iteration: 45000\n",
      "current iteration: 50000\n",
      "current iteration: 55000\n",
      "current iteration: 60000\n",
      "current iteration: 65000\n",
      "current iteration: 70000\n",
      "current iteration: 75000\n",
      "current iteration: 80000\n",
      "current iteration: 85000\n",
      "current iteration: 90000\n",
      "current iteration: 95000\n",
      "current iteration: 100000\n",
      "current iteration: 105000\n",
      "current iteration: 110000\n",
      "current iteration: 115000\n",
      "current iteration: 120000\n",
      "current iteration: 125000\n"
     ]
    },
    {
     "data": {
      "image/png": "[encoded data removed]",
      "text/plain": [
       "<Figure size 720x576 with 1 Axes>"
      ]
     },
     "metadata": {
      "needs_background": "light"
     },
     "output_type": "display_data"
    },
    {
     "name": "stdout",
     "output_type": "stream",
     "text": [
      "planning (t,y,v) = (0.1, 5, 0))...\n",
      "current iteration: 5000\n",
      "current iteration: 10000\n",
      "current iteration: 15000\n",
      "current iteration: 20000\n",
      "current iteration: 25000\n",
      "current iteration: 30000\n",
      "current iteration: 35000\n",
      "current iteration: 40000\n",
      "current iteration: 45000\n",
      "current iteration: 50000\n",
      "current iteration: 55000\n",
      "current iteration: 60000\n",
      "current iteration: 65000\n",
      "current iteration: 70000\n",
      "current iteration: 75000\n",
      "current iteration: 80000\n",
      "current iteration: 85000\n",
      "current iteration: 90000\n",
      "current iteration: 95000\n",
      "current iteration: 100000\n",
      "current iteration: 105000\n",
      "current iteration: 110000\n",
      "current iteration: 115000\n",
      "current iteration: 120000\n",
      "current iteration: 125000\n",
      "current iteration: 130000\n"
     ]
    },
    {
     "data": {
      "image/png": "[encoded data removed]",
      "text/plain": [
       "<Figure size 720x576 with 1 Axes>"
      ]
     },
     "metadata": {
      "needs_background": "light"
     },
     "output_type": "display_data"
    },
    {
     "name": "stdout",
     "output_type": "stream",
     "text": [
      "planning (t,y,v) = (0.1, 5, 0))...\n",
      "current iteration: 5000\n",
      "current iteration: 10000\n",
      "current iteration: 15000\n",
      "current iteration: 20000\n",
      "current iteration: 25000\n",
      "current iteration: 30000\n",
      "current iteration: 35000\n",
      "current iteration: 40000\n",
      "current iteration: 45000\n",
      "current iteration: 50000\n",
      "current iteration: 55000\n",
      "current iteration: 60000\n",
      "current iteration: 65000\n",
      "current iteration: 70000\n",
      "current iteration: 75000\n",
      "current iteration: 80000\n",
      "current iteration: 85000\n"
     ]
    },
    {
     "data": {
      "image/png": "[encoded data removed]",
      "text/plain": [
       "<Figure size 720x576 with 1 Axes>"
      ]
     },
     "metadata": {
      "needs_background": "light"
     },
     "output_type": "display_data"
    }
   ],
   "source": [
    "## TASK2\n",
    "\n",
    "tBuff, yBuff = 0.3, 0.3\n",
    "\n",
    "task = TASK2\n",
    "FILES = [\"test{}\".format(i) for i in range(1,10+1)]\n",
    "# FILES = [\"test{}\".format(i) for i in [7]]\n",
    "# file = 'data3'\n",
    "\n",
    "for file in FILES:\n",
    "    PLAN_INTERVAL = 0.3\n",
    "\n",
    "    curr = (dt, Y_ST, 0)\n",
    "    actionsExec = [] # [[a,t]]\n",
    "    pathExec = [[0,Y_ST]]    #[[t,y]]\n",
    "    prevV = np.empty((1,1))\n",
    "    data = getData(file, IS_POSE)\n",
    "    obsTruth = np.array(list(data.values()))\n",
    "    lastPlanned = dt\n",
    "\n",
    "    while( curr[iY] < yGoal ):\n",
    "\n",
    "        # Reality\n",
    "        t = curr[iT]\n",
    "\n",
    "        obstacles, v = estimObstacles(obsTruth[:,:tToi(t)+1,:])\n",
    "        # Plan ahead\n",
    "        if not np.array_equal(np.round(v,8),np.round(prevV,8)):\n",
    "            if t-lastPlanned> PLAN_INTERVAL or round(t % PLAN_INTERVAL, 8) == dt:\n",
    "                print(\"planning (t,y,v) = {})...\".format(curr))\n",
    "                out = aStar(curr,yGoal)\n",
    "        #         ctrls = out[1][::-1][:tToi(PLAN_INTERVAL)]\n",
    "                ctrls = out[1][::-1]\n",
    "                lastPlanned = t\n",
    "\n",
    "        # Execute plan\n",
    "        if len(ctrls)!=0:\n",
    "            ctrl = ctrls.pop(0)        \n",
    "            curr = move(ctrl,curr)\n",
    "            actionsExec.append([ctrl,t])\n",
    "            pathExec.append([t,curr[iY]])\n",
    "            # print(\"(t,a)={:.1f},{:.1f}\".format(t,ctrl))\n",
    "\n",
    "        prevV = v\n",
    "\n",
    "    pathExec = np.array(pathExec)\n",
    "    plotSpaceT(pathExec,file,task,data)\n",
    "    controls = {'robot_0': actionsExec}\n",
    "    writeOut(file,task,controls)"
   ]
  }
 ],
 "metadata": {
  "kernelspec": {
   "display_name": "py2",
   "language": "python",
   "name": "py2"
  },
  "language_info": {
   "codemirror_mode": {
    "name": "ipython",
    "version": 3
   },
   "file_extension": ".py",
   "mimetype": "text/x-python",
   "name": "python",
   "nbconvert_exporter": "python",
   "pygments_lexer": "ipython3",
   "version": "3.7.0"
  }
 },
 "nbformat": 4,
 "nbformat_minor": 2
}
